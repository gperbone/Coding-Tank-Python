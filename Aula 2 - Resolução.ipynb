{
  "cells": [
    {
      "cell_type": "markdown",
      "metadata": {
        "id": "4LuGauI92F78"
      },
      "source": [
        "## Exercícios"
      ]
    },
    {
      "cell_type": "markdown",
      "metadata": {
        "id": "E82Mv3yY2F78"
      },
      "source": [
        "**1)** Um posto está vendendo combustíveis com a seguinte tabela de descontos: <br>\n",
        "\n",
        "Álcool:<br>\n",
        " - até 20 litros, desconto de 3% por litro\n",
        " - acima de 20 litros, desconto de 5% por litro <br>\n",
        " \n",
        "Gasolina:<br>\n",
        " - até 20 litros, desconto de 4% por litro\n",
        " - acima de 20 litros, desconto de 6% por litro. \n",
        " \n",
        "Escreva um algoritmo que leia o número de litros vendidos, o tipo de combustível (codificado da seguinte forma: A-álcool, G-gasolina), calcule e imprima o valor a ser pago pelo cliente sabendo-se que o preço do litro da gasolina é 2,50 reais o preço do litro do álcool é 1,90 reais."
      ]
    },
    {
      "cell_type": "code",
      "execution_count": 7,
      "metadata": {
        "id": "nVqeoYTv2F79"
      },
      "outputs": [
        {
          "name": "stdout",
          "output_type": "stream",
          "text": [
            "O preço a ser pago é R$105.75!\n"
          ]
        }
      ],
      "source": [
        "litros = float(input('Quantos litros foram abastecidos?' ))\n",
        "combustivel = input('Qual tipo de combustível você deseja? (digite A para Alcool e G para Gasolina) ')\n",
        "\n",
        "if combustivel == 'A' or combustivel == 'a':\n",
        "    preco = litros * 1.9\n",
        "    if litros <= 20:\n",
        "        preco *= 0.97\n",
        "    elif litros > 20:\n",
        "        preco *= 0.95\n",
        "elif combustivel == 'G' or combustivel == 'g':\n",
        "    preco = litros * 2.5\n",
        "    if litros <= 20:\n",
        "        preco *= 0.96\n",
        "    elif litros > 20:\n",
        "        preco *= 0.94\n",
        "\n",
        "print(f'O preço a ser pago é R${preco:.2f}!')"
      ]
    },
    {
      "cell_type": "markdown",
      "metadata": {
        "id": "81iJ8fJl2F79"
      },
      "source": [
        "**2)** Faça um programa que faça 5 perguntas para uma pessoa sobre um crime. As perguntas são:\n",
        "\n",
        "- \"Telefonou para a vítima?\"\n",
        "- \"Esteve no local do crime?\"\n",
        "- \"Mora perto da vítima?\"\n",
        "- \"Devia para a vítima?\"\n",
        "- \"Já trabalhou com a vítima?\"\n",
        "\n",
        "O programa deve no final emitir uma classificação sobre a participação da pessoa no crime. Se a pessoa responder positivamente a 2 questões ela deve ser classificada como \"Suspeita\", entre 3 e 4 como \"Cúmplice\" e 5 como \"Assassino\". Caso contrário, ele será classificado como \"Inocente\"."
      ]
    },
    {
      "cell_type": "code",
      "execution_count": 6,
      "metadata": {
        "id": "iXEUqTLm2F79"
      },
      "outputs": [
        {
          "name": "stdout",
          "output_type": "stream",
          "text": [
            "Inocente\n",
            "fluxo encerrado\n"
          ]
        }
      ],
      "source": [
        "p1 = int(input(\"Telefonou para a vítima? (Digite 1 para 'SIM' e 0 para 'NÃO'\"))\n",
        "p2 = int(input(\"Esteve no local do crime? (Digite 1 para 'SIM' e 0 para 'NÃO'\"))\n",
        "p3 = int(input(\"Mora perto da vítima? (Digite 1 para 'SIM' e 0 para 'NÃO'\"))\n",
        "p4 = int(input(\"Devia para a vítima? (Digite 1 para 'SIM' e 0 para 'NÃO'\"))\n",
        "p5 = int(input(\"Já trabalhou com a vítima? (Digite 1 para 'SIM' e 0 para 'NÃO'\"))\n",
        "\n",
        "classificacao = p1 + p2 + p3 + p4 + p5\n",
        "\n",
        "if classificacao == 2:\n",
        "    print('Suspeita')\n",
        "elif 3 <= classificacao <= 4:\n",
        "    print('Cúmplice')\n",
        "elif classificacao == 5:\n",
        "    print('Assassino')\n",
        "else: \n",
        "    print('Inocente')"
      ]
    },
    {
      "cell_type": "markdown",
      "metadata": {
        "id": "oSfTAuAB2F79"
      },
      "source": [
        "**3)** Faça um Programa que leia um número inteiro menor que 1000 e imprima a quantidade de centenas, dezenas e unidades do mesmo. Observando os termos no plural a colocação do \"e\", da vírgula entre outros. Exemplo:\n",
        "\n",
        "326 = 3 centenas, 2 dezenas e 6 unidades <br>\n",
        "12 = 1 dezena e 2 unidades"
      ]
    },
    {
      "cell_type": "code",
      "execution_count": 65,
      "metadata": {
        "id": "0ezjEscZ2F79"
      },
      "outputs": [
        {
          "name": "stdout",
          "output_type": "stream",
          "text": [
            "764 = 7 centenas, 6 dezenas e 4 unidades\n"
          ]
        }
      ],
      "source": [
        "num = int(input('Digite um número inteiro entre 0 e 999: '))\n",
        "\n",
        "centenas = num // 100\n",
        "dezenas = (num % 100) // 10\n",
        "unidades = num - (centenas * 100) - (dezenas * 10)\n",
        "\n",
        "if centenas == 0:\n",
        "    frase_centenas = ''\n",
        "elif centenas == 1:\n",
        "    frase_centenas = '1 centena'\n",
        "elif centenas > 1:\n",
        "    frase_centenas = str(centenas) + ' centenas'\n",
        "\n",
        "\n",
        "if dezenas == 0:\n",
        "    frase_dezenas = ''\n",
        "elif dezenas == 1:\n",
        "    frase_dezenas  = '1 dezena'\n",
        "elif dezenas > 1:\n",
        "    frase_dezenas = str(dezenas) + ' dezenas'\n",
        "\n",
        "if unidades == 0:\n",
        "    frase_unidades = ''\n",
        "elif unidades == 1:\n",
        "    frase_unidades  = '1 unidade'\n",
        "elif unidades > 1:\n",
        "    frase_unidades = str(unidades) + ' unidades'\n",
        "\n",
        "numero_termos = bool(centenas) + bool(dezenas) + bool(unidades)\n",
        "\n",
        "if numero_termos == 3:\n",
        "    print(f'{num} = {frase_centenas}, {frase_dezenas} e {frase_unidades}')\n",
        "elif numero_termos == 2 and frase_unidades == '':\n",
        "    print(f'{num} = {frase_centenas} e {frase_dezenas}')\n",
        "elif numero_termos == 2 and frase_dezenas == '':\n",
        "    print(f'{num} = {frase_centenas} e {frase_unidades}')\n",
        "elif numero_termos == 2 and frase_centenas == '':\n",
        "    print(f'{num} = {frase_dezenas} e {frase_unidades}')\n",
        "elif num == 0:\n",
        "    print('0 = Zero')\n",
        "else:\n",
        "    print(f'{num} = {frase_centenas}{frase_dezenas}{frase_unidades}')"
      ]
    },
    {
      "cell_type": "markdown",
      "metadata": {
        "id": "CLZ4_Yt82F79"
      },
      "source": [
        "**4)** Faça um programa que calcule as raízes de uma equação do segundo grau, na forma:\n",
        "\n",
        "$ax^{2} + bx + c$ \n",
        "\n",
        "O programa deverá pedir os valores de a, b e c, informando ao usuário nas seguintes situações:\n",
        "Se o usuário informar o valor de A igual a zero, a equação não é do segundo grau e o programa não deve fazer pedir os demais valores, sendo encerrado;\n",
        "Se o delta calculado for negativo, a equação não possui raizes reais. Informe ao usuário e encerre o programa;\n",
        "Se o delta calculado for igual a zero a equação possui apenas uma raiz real; informe-a ao usuário;\n",
        "Se o delta for positivo, a equação possui duas raiz reais; informe-as ao usuário;"
      ]
    },
    {
      "cell_type": "code",
      "execution_count": 76,
      "metadata": {
        "id": "F3KDUuJ92F79"
      },
      "outputs": [
        {
          "name": "stdout",
          "output_type": "stream",
          "text": [
            "A equação não possui raízes reais\n"
          ]
        }
      ],
      "source": [
        "a = float(input('Digite o valor de a: '))\n",
        "\n",
        "if a != 0: \n",
        "    b = float(input('Digite o valor de b: '))\n",
        "    c = float(input('Digite o valor de c: '))\n",
        "\n",
        "    delta = b ** 2 - 4 * a * c\n",
        "\n",
        "    if delta < 0:\n",
        "        print('A equação não possui raízes reais')\n",
        "    elif delta == 0:\n",
        "        raiz = (- b) / (2 * a)\n",
        "        print(f'A equação possui uma raiz real de valor {raiz}')\n",
        "    elif delta > 0:\n",
        "        raiz1 = (- b + delta ** (1/2)) / (2 * a)\n",
        "        raiz2 = (- b - delta ** (1/2)) / (2 * a)\n",
        "        print(f'A equação possui duas raízes reais de valores {raiz1} e {raiz2}')\n",
        "else:\n",
        "    print('A equação não é do segundo grau')"
      ]
    },
    {
      "cell_type": "markdown",
      "metadata": {
        "id": "Vf338eeP2F79"
      },
      "source": [
        "**5)** Faça um Programa que peça os 3 lados de um triângulo. O programa deverá informar se os valores podem ser um triângulo. Indique, caso os lados formem um triângulo, se o mesmo é: equilátero, isósceles ou escaleno.\n",
        "\n",
        "Dicas:\n",
        "- Três lados formam um triângulo quando a soma de quaisquer dois lados for maior que o terceiro;\n",
        "- Triângulo Equilátero: três lados iguais;\n",
        "- Triângulo Isósceles: quaisquer dois lados iguais;\n",
        "- Triângulo Escaleno: três lados diferentes;"
      ]
    },
    {
      "cell_type": "code",
      "execution_count": 84,
      "metadata": {
        "id": "lmyJmzYd2F7-"
      },
      "outputs": [
        {
          "name": "stdout",
          "output_type": "stream",
          "text": [
            "O triângulo é EQUILÁTERO\n"
          ]
        }
      ],
      "source": [
        "lado1 = float(input('Digite o valor do primeiro lado: '))\n",
        "lado2 = float(input('Digite o valor do segundo lado: '))\n",
        "lado3 = float(input('Digite o valor do terceiro lado: '))\n",
        "\n",
        "if lado1 + lado2 > lado3 and lado1 + lado3 > lado2 and lado2 + lado3 > lado1:\n",
        "    if lado1 == lado2 == lado3:\n",
        "        print('O triângulo é EQUILÁTERO')\n",
        "    elif lado1 == lado2 or lado2 == lado3 or lado1 == lado3:\n",
        "        print('O triângulo é ISÓCELES')\n",
        "    else:\n",
        "        print('O triângulo é ESCALENO')\n",
        "else:\n",
        "    print('Os valores de lado informados não formam um triângulo!')\n"
      ]
    }
  ],
  "metadata": {
    "colab": {
      "collapsed_sections": [
        "gx_lCMvm2F77",
        "wVeOCA3q2F77",
        "kOepK-022F78",
        "ZuwKbVhc2F78",
        "4LuGauI92F78"
      ],
      "name": "Aula 2 - Operadores Lógicos e Condicionais.ipynb",
      "provenance": []
    },
    "kernelspec": {
      "display_name": "Python 3",
      "language": "python",
      "name": "python3"
    },
    "language_info": {
      "codemirror_mode": {
        "name": "ipython",
        "version": 3
      },
      "file_extension": ".py",
      "mimetype": "text/x-python",
      "name": "python",
      "nbconvert_exporter": "python",
      "pygments_lexer": "ipython3",
      "version": "3.8.9"
    }
  },
  "nbformat": 4,
  "nbformat_minor": 0
}
