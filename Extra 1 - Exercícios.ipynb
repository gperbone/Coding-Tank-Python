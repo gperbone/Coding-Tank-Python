{
 "cells": [
  {
   "cell_type": "markdown",
   "metadata": {},
   "source": [
    "#LC | Variáveis, Entradas e Saídas"
   ]
  },
  {
   "cell_type": "markdown",
   "metadata": {},
   "source": [
    "1 Faça um programa que mostre a mensagem \"Olá, mundo!\" na tela."
   ]
  },
  {
   "cell_type": "code",
   "execution_count": 1,
   "metadata": {},
   "outputs": [
    {
     "name": "stdout",
     "output_type": "stream",
     "text": [
      "Olá mundo!\n"
     ]
    }
   ],
   "source": [
    "print(\"Olá mundo!\")"
   ]
  },
  {
   "cell_type": "markdown",
   "metadata": {},
   "source": [
    "2 Faça um programa que peça um número e mostre a mensagem \"O número informado foi [número]\"."
   ]
  },
  {
   "cell_type": "code",
   "execution_count": null,
   "metadata": {},
   "outputs": [],
   "source": [
    "num = input(\"Digite um número: \")\n",
    "print(f'O número informado foi {num}.')"
   ]
  },
  {
   "cell_type": "markdown",
   "metadata": {},
   "source": [
    "3 Faça um programa que peça um número para o usuário (string), converta-o para float e depois imprima-o na tela. Você consegue fazer a mesma coisa, porém convertendo para int?"
   ]
  },
  {
   "cell_type": "code",
   "execution_count": null,
   "metadata": {},
   "outputs": [],
   "source": [
    "num_float = float(input(\"Digite um número float: \"))\n",
    "print(f'O número float informado foi {num_float}.')\n",
    "\n",
    "num_int = int(input(\"Digite um número inteiro: \"))\n",
    "print(f'O número inteiro informado foi {num_int}.')"
   ]
  },
  {
   "cell_type": "markdown",
   "metadata": {},
   "source": [
    "4 Faça um programa que peça dois números inteiros e imprima a soma deles."
   ]
  },
  {
   "cell_type": "code",
   "execution_count": null,
   "metadata": {},
   "outputs": [],
   "source": [
    "num_int_1 = int(input(\"Digite um número inteiro: \"))\n",
    "num_int_2 = int(input(\"Digite outro número inteiro: \"))\n",
    "print(f'A soma dos números {num_int_1} e {num_int_2} é {num_int_1 + num_int_2}.')"
   ]
  },
  {
   "cell_type": "markdown",
   "metadata": {},
   "source": [
    "5 Faça um programa que peça as 4 notas bimestrais de um aluno e mostre a média aritmética delas."
   ]
  },
  {
   "cell_type": "code",
   "execution_count": null,
   "metadata": {},
   "outputs": [],
   "source": [
    "nota_1 = float(input(\"Digite a nota do 1o bimestre: \"))\n",
    "nota_2 = float(input(\"Digite a nota do 2o bimestre: \"))\n",
    "nota_3 = float(input(\"Digite a nota do 3o bimestre: \"))\n",
    "nota_4 = float(input(\"Digite a nota do 4o bimestre: \"))\n",
    "print(f'A média aritmética de suas notas é {(nota_1 + nota_2 + nota_3 + nota_4 )/4}.')"
   ]
  },
  {
   "cell_type": "markdown",
   "metadata": {},
   "source": [
    "6 Faça um programa que peça o raio de um círculo, calcule e mostre sua área.\n",
    "\n",
    "Obs: Fórmula da área de um círculo: A = 3,14*(r**2), onde r é o raio."
   ]
  },
  {
   "cell_type": "code",
   "execution_count": null,
   "metadata": {},
   "outputs": [],
   "source": [
    "raio = float(input(\"Digite o raio do círculo: \"))\n",
    "print(f'A área do círculo de raio {raio} é {3.14 * (raio ** 2)}.')"
   ]
  },
  {
   "cell_type": "markdown",
   "metadata": {},
   "source": [
    "7 Faça um programa que pergunte quanto você ganha por hora e o número de horas trabalhadas no mês e depois, calcule e mostre o total do seu salário no referido mês."
   ]
  },
  {
   "cell_type": "code",
   "execution_count": null,
   "metadata": {},
   "outputs": [],
   "source": [
    "salario_hora = float(input(\"Digite o seu salário por hora: \"))\n",
    "numero_horas = float(input(\"Digite o numero de horas trabalhadas no mês: \"))\n",
    "print(f' O seu salário neste mês será {salario_hora * numero_horas}.')"
   ]
  },
  {
   "cell_type": "markdown",
   "metadata": {},
   "source": [
    "8 Faça um programa que peça a temperatura em graus Fahrenheit (F), transforme e mostre a temperatura em graus Celsius (°C).\n",
    "\n",
    "°C = (5 * (F-32) / 9)\n"
   ]
  },
  {
   "cell_type": "code",
   "execution_count": null,
   "metadata": {},
   "outputs": [],
   "source": [
    "tempF = float(input('Qual é a temperatura em Fahrenheit?'))\n",
    "\n",
    "tempC = (5*(tempF - 32))/9\n",
    "\n",
    "print('A temperatura', tempF, '°F em Celsius é', tempC, '°C')"
   ]
  },
  {
   "cell_type": "markdown",
   "metadata": {},
   "source": [
    "9 Faça um programa que peça o dia, o mês e o ano para o usuário e imprima a data completa no formato dd/mm/aaaa."
   ]
  },
  {
   "cell_type": "code",
   "execution_count": null,
   "metadata": {},
   "outputs": [],
   "source": [
    "dia = input('Digite o dia com dois números: ')\n",
    "mes = input('Digite o mês com dois números: ')\n",
    "ano = input('Digite o ano com quatro números: ')\n",
    "\n",
    "print(f'A data digitada é {dia}/{mes}/{ano}')"
   ]
  },
  {
   "cell_type": "markdown",
   "metadata": {},
   "source": [
    "10 Faça um programa que peça 2 números inteiros e um número real, calcule e mostre:\n",
    "\n",
    "a) o produto do dobro do primeiro com metade do segundo.\n",
    "\n",
    "b) a soma do triplo do primeiro com o terceiro.\n",
    "\n",
    "c) o terceiro elevado ao cubo."
   ]
  },
  {
   "cell_type": "code",
   "execution_count": null,
   "metadata": {},
   "outputs": [],
   "source": [
    "int1 = int(input('Digite o primeiro inteiro: '))\n",
    "int2 = int(input('Digite o segundo inteiro: '))\n",
    "real = float(input('Digite o número real: '))\n",
    "\n",
    "print(f'a) o produto do dobro do primeiro com metade do segundo: {(2 * int1) * (int2 / 2)}')\n",
    "print(f'b) a soma do triplo do primeiro com o terceiro: {(3 * int1) + (real)}')\n",
    "print(f'c) o terceiro elevado ao cubo: {real ** 3}')"
   ]
  },
  {
   "cell_type": "markdown",
   "metadata": {},
   "source": [
    "11 Faça um programa que peça o peso e altura de uma pessoa e calcule seu IMC (Índice de Massa Corporal).\n",
    "\n",
    "Obs: IMC = Peso/Altura**2"
   ]
  },
  {
   "cell_type": "code",
   "execution_count": null,
   "metadata": {},
   "outputs": [],
   "source": [
    "peso = float(input('Digite o seu peso: '))\n",
    "altura = float(input('Digite a sua altura: '))\n",
    "\n",
    "print(f'O seu IMC é {(peso) / (altura ** 2)}')"
   ]
  },
  {
   "cell_type": "markdown",
   "metadata": {},
   "source": [
    "12 Faça um programa que peça um valor monetário e aumente-o em 15%. Seu programa deve imprimir a mensagem “O novo valor é [valor]”."
   ]
  },
  {
   "cell_type": "code",
   "execution_count": null,
   "metadata": {},
   "outputs": [],
   "source": [
    "valor = float(input('Digite o valor a ser incrementado: '))\n",
    "\n",
    "print(f'O novo valor é { valor * 1.15:.2f}')"
   ]
  },
  {
   "cell_type": "markdown",
   "metadata": {},
   "source": [
    "13 Faça um programa que peça um valor monetário e diminua-o em 15%. Seu programa deve imprimir a mensagem “O novo valor é [valor]”."
   ]
  },
  {
   "cell_type": "code",
   "execution_count": null,
   "metadata": {},
   "outputs": [],
   "source": [
    "valor = float(input('Digite o valor a ser descontado: '))\n",
    "\n",
    "print(f'O novo valor é { valor * 0.85:.2f}')"
   ]
  },
  {
   "cell_type": "markdown",
   "metadata": {},
   "source": [
    "Desafio 1 - Peça para o usuário digitar uma velocidade inicial (em m/s), uma posição inicial (em m) e um instante de tempo (em s) e imprima a posição de um projétil nesse instante de tempo.\n",
    "\n",
    "Use a fórmula matemática:\n",
    "\n",
    "y(t) = y(0) + v(0)*t + (g*(t**2)/2)\n",
    "\n",
    "Onde, g é a aceleração da gravidade (-10m/s²), y(t) é a posição final, y(0) é a posição inicial, v(0) é a velocidade inicial e t é o instante de tempo."
   ]
  },
  {
   "cell_type": "code",
   "execution_count": null,
   "metadata": {},
   "outputs": [],
   "source": [
    "vel = float(input('Digite uma velocidade (em m/s): '))\n",
    "pos = float(input('Digite a posição inicial (em m): '))\n",
    "tem = float(input('Digite um instante de tempo (s): '))\n",
    "\n",
    "print(f'A posição do projétil é  { pos + (vel*tem) + ((-10 * (tem ** 2)) /2) :.2f}')"
   ]
  },
  {
   "cell_type": "markdown",
   "metadata": {},
   "source": [
    "Desafio 2 - Faça um programa que informe a data e a hora para o usuário. Para isso use a função datetime.now() do módulo datetime."
   ]
  },
  {
   "cell_type": "code",
   "execution_count": 47,
   "metadata": {},
   "outputs": [
    {
     "name": "stdout",
     "output_type": "stream",
     "text": [
      "A data e hora agora é 2022-04-22 16:08:47.159921\n"
     ]
    }
   ],
   "source": [
    "from datetime import datetime \n",
    "\n",
    "print(f'A data e hora agora é {datetime.now()}')"
   ]
  },
  {
   "cell_type": "markdown",
   "metadata": {},
   "source": [
    "#Scripts em Python"
   ]
  },
  {
   "cell_type": "markdown",
   "metadata": {},
   "source": [
    "1 Faça um programa para somar dois números guardados em variáveis e multiplicar o resultado pelo primeiro número."
   ]
  },
  {
   "cell_type": "code",
   "execution_count": 1,
   "metadata": {},
   "outputs": [
    {
     "name": "stdout",
     "output_type": "stream",
     "text": [
      "A multiplicação é 36.\n"
     ]
    }
   ],
   "source": [
    "num1 = int(input('Digite um numero inteiro: '))\n",
    "num2 = int(input('Digite outro numero inteiro: '))\n",
    "\n",
    "soma = num1 + num2\n",
    "\n",
    "mult = soma * num1\n",
    "\n",
    "print(f'A multiplicação é {mult}.')"
   ]
  },
  {
   "cell_type": "markdown",
   "metadata": {},
   "source": [
    "2 Escreva um programa para ler o salário mensal atual de um funcionário e o percentual de reajuste. Calcular e escrever o valor do novo salário."
   ]
  },
  {
   "cell_type": "code",
   "execution_count": 5,
   "metadata": {},
   "outputs": [
    {
     "name": "stdout",
     "output_type": "stream",
     "text": [
      "O seu novo salário será 90.00.\n"
     ]
    }
   ],
   "source": [
    "salario = float(input('Qual seu salário: '))\n",
    "reajuste = float(input('Digite o percentual de reajuste, com o sinal negativo, se for o caso (ex: digite 28.6 para 28,6%): '))\n",
    "\n",
    "print(f'O seu novo salário será {salario * ( 1 + (reajuste/100)):.2f}.')"
   ]
  },
  {
   "cell_type": "markdown",
   "metadata": {},
   "source": [
    "3 Faça um programa que peça um nome e a idade que a pessoa fez ou vai fazer esse ano de 2021. Ao final, informe o ano de nascimento dessa pessoa."
   ]
  },
  {
   "cell_type": "code",
   "execution_count": 11,
   "metadata": {},
   "outputs": [
    {
     "name": "stdout",
     "output_type": "stream",
     "text": [
      "João, você nasceu em 1965.\n"
     ]
    }
   ],
   "source": [
    "nome = input('Digite seu nome: ')\n",
    "check = int(input('Você já fez aniversário neste ano de 2021? Digite 1 para SIM e 0 para NÃO: '))\n",
    "idade = int(input('Qual sua idade: '))\n",
    "nasc = 0\n",
    "\n",
    "if check == 1:\n",
    "    nasc = 2022 - idade\n",
    "elif check == 0:\n",
    "    nasc = 2022 - idade - 1\n",
    "\n",
    "print(f'{nome}, você nasceu em {nasc}.')"
   ]
  },
  {
   "cell_type": "markdown",
   "metadata": {},
   "source": [
    "4 Faça um script que receba um número e informe:\n",
    "\n",
    "O dobro desse número\n",
    "O número ao quadrado\n",
    "O número ao cubo"
   ]
  },
  {
   "cell_type": "code",
   "execution_count": 14,
   "metadata": {},
   "outputs": [
    {
     "name": "stdout",
     "output_type": "stream",
     "text": [
      "O dobro de 3 é 6.\n",
      "O quadrado de 3 é 9.\n",
      "O cubo de 3 é 27.\n"
     ]
    }
   ],
   "source": [
    "num = int(input('Digite um número inteiro: '))\n",
    "\n",
    "print(f'O dobro de {num} é {num * 2}.')\n",
    "print(f'O quadrado de {num} é {num ** 2}.')\n",
    "print(f'O cubo de {num} é {num ** 3}.')\n"
   ]
  },
  {
   "cell_type": "code",
   "execution_count": null,
   "metadata": {},
   "outputs": [],
   "source": []
  }
 ],
 "metadata": {
  "interpreter": {
   "hash": "31f2aee4e71d21fbe5cf8b01ff0e069b9275f58929596ceb00d14d90e3e16cd6"
  },
  "kernelspec": {
   "display_name": "Python 3.8.9 64-bit",
   "language": "python",
   "name": "python3"
  },
  "language_info": {
   "codemirror_mode": {
    "name": "ipython",
    "version": 3
   },
   "file_extension": ".py",
   "mimetype": "text/x-python",
   "name": "python",
   "nbconvert_exporter": "python",
   "pygments_lexer": "ipython3",
   "version": "3.8.9"
  },
  "orig_nbformat": 4
 },
 "nbformat": 4,
 "nbformat_minor": 2
}
