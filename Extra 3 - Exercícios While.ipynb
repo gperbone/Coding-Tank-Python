{
 "cells": [
  {
   "cell_type": "markdown",
   "metadata": {},
   "source": [
    "#LC | While"
   ]
  },
  {
   "cell_type": "markdown",
   "metadata": {},
   "source": [
    "1 Faça um programa que peça ao usuário um número e imprima todos os números de um até o número dado.\n",
    "\n",
    "Exemplo:\n",
    "\n",
    "digite: 5\n",
    "\n",
    "imprime: 1 2 3 4 5"
   ]
  },
  {
   "cell_type": "code",
   "execution_count": 5,
   "metadata": {},
   "outputs": [
    {
     "name": "stdout",
     "output_type": "stream",
     "text": [
      "1 2 3 4 5 6 7 8 "
     ]
    }
   ],
   "source": [
    "num = int(input(\"Digite um número: \"))\n",
    "contador = 1\n",
    "\n",
    "while contador <= num:\n",
    "    print(contador, end=\" \")\n",
    "    contador += 1"
   ]
  },
  {
   "cell_type": "markdown",
   "metadata": {},
   "source": [
    "2 Peça ao usuário para digitar um número e imprima o fatorial de n."
   ]
  },
  {
   "cell_type": "code",
   "execution_count": 14,
   "metadata": {},
   "outputs": [
    {
     "name": "stdout",
     "output_type": "stream",
     "text": [
      "5! = 120.\n"
     ]
    }
   ],
   "source": [
    "num = int(input(\"Digite um número (inteiro e maior que 0) para saber o fatorial dele: \"))\n",
    "contador = num\n",
    "fatorial = 1\n",
    "\n",
    "while contador > 1:\n",
    "    fatorial *= contador\n",
    "    contador -= 1\n",
    "\n",
    "print(f'{num}! = {fatorial}.')"
   ]
  },
  {
   "cell_type": "markdown",
   "metadata": {},
   "source": [
    "3 Peça ao usuário para digitar um número N e some todos os números de 1 a N utilizando o laço de repetição while."
   ]
  },
  {
   "cell_type": "code",
   "execution_count": 18,
   "metadata": {},
   "outputs": [
    {
     "name": "stdout",
     "output_type": "stream",
     "text": [
      "5+...+1 = 15.\n"
     ]
    }
   ],
   "source": [
    "num = int(input(\"Digite um número (inteiro e maior que 1) para saber a soma de todos os números entre 1 e ele: \"))\n",
    "contador = num\n",
    "soma = 1\n",
    "\n",
    "while contador > 1:\n",
    "    soma += contador\n",
    "    contador -= 1\n",
    "\n",
    "print(f'{num}+...+1 = {soma}.')"
   ]
  },
  {
   "cell_type": "markdown",
   "metadata": {},
   "source": [
    "4 Faça um programa que imprima a tabuada do 9 (de 9*1 a 9*10) usando loops."
   ]
  },
  {
   "cell_type": "code",
   "execution_count": 20,
   "metadata": {},
   "outputs": [
    {
     "name": "stdout",
     "output_type": "stream",
     "text": [
      "9 x 1 = 9\n",
      "9 x 2 = 18\n",
      "9 x 3 = 27\n",
      "9 x 4 = 36\n",
      "9 x 5 = 45\n",
      "9 x 6 = 54\n",
      "9 x 7 = 63\n",
      "9 x 8 = 72\n",
      "9 x 9 = 81\n",
      "9 x 10 = 90\n"
     ]
    }
   ],
   "source": [
    "i = 1\n",
    "\n",
    "while i <= 10:\n",
    "    print(f'9 x {i} = {9*i}')\n",
    "    i += 1"
   ]
  },
  {
   "cell_type": "markdown",
   "metadata": {},
   "source": [
    "5 Faça um programa, usando loops, que peça para um usuário digitar um número e que só finaliza quando o usuário digitar 0. Ao final imprima a soma de todos os números digitados."
   ]
  },
  {
   "cell_type": "code",
   "execution_count": 26,
   "metadata": {},
   "outputs": [
    {
     "name": "stdout",
     "output_type": "stream",
     "text": [
      "A soma total é 10\n"
     ]
    }
   ],
   "source": [
    "num = int(input(\"Digite um número para somar, ou ZERO para finalizar: \"))\n",
    "\n",
    "soma = num\n",
    "\n",
    "while num != 0:\n",
    "    num = int(input(\"Digite outro número para somar, ou ZERO para finalizar: \"))\n",
    "    soma += num\n",
    "\n",
    "print(f'A soma total é {soma}')"
   ]
  },
  {
   "cell_type": "markdown",
   "metadata": {},
   "source": [
    "6 Faça um programa que sorteia um número N e peça para o usuário adivinhar o número sorteado. A cada resposta errada, o seu programa deve imprimir um aviso dizendo que a resposta está errada e pedir novamente uma resposta ao usuário.\n",
    "\n",
    "Para a realização desse exercício, utilize alguma função da biblioteca random (e.g. randint())."
   ]
  },
  {
   "cell_type": "code",
   "execution_count": 3,
   "metadata": {},
   "outputs": [
    {
     "name": "stdout",
     "output_type": "stream",
     "text": [
      "5\n",
      "ERROU! Não é 10\n",
      "PARABÉNS! Você acertou o número 5\n"
     ]
    }
   ],
   "source": [
    "import random\n",
    "\n",
    "num = random.randint(1,10)\n",
    "tentativa = -1\n",
    "\n",
    "tentativa = int(input(f'Tente adivinhar o número sorteado entre 1 e 10: '))\n",
    "\n",
    "while tentativa != num:\n",
    "    print(f'ERROU! Não é {tentativa}')\n",
    "    tentativa = int(input(f'Tente adivinhar o número sorteado entre 1 e 10: '))\n",
    "\n",
    "print(f'PARABÉNS! Você acertou o número {num}')"
   ]
  },
  {
   "cell_type": "markdown",
   "metadata": {},
   "source": [
    "7 Faça um programa que peça para o usuário digitar a idade, o salário e o sexo de uma pessoa até que as entradas digitadas sejam válidas.\n",
    "\n",
    "a. Idade: entre 0 e 150;\n",
    "\n",
    "b. Salário: maior que 0;\n",
    "\n",
    "c. Sexo: M, F ou Outro."
   ]
  },
  {
   "cell_type": "code",
   "execution_count": 16,
   "metadata": {},
   "outputs": [
    {
     "name": "stdout",
     "output_type": "stream",
     "text": [
      "PARABÉNS, você concluiu com os dados: \n",
      "IDADE: 44 \n",
      "SALARIO: 1000.45 \n",
      "GENERO: F\n"
     ]
    }
   ],
   "source": [
    "idade = int(input(f'Digite uma idade entre 0 e 150: '))\n",
    "\n",
    "while (0 > idade) or  (idade > 150):\n",
    "    idade = int(input(f'IDADE FORA DO ESPERADO. Digite uma idade entre 0 e 150: '))\n",
    "\n",
    "salario = float(input(f'Digite um salario maior que 0: '))\n",
    "\n",
    "while (salario < 0):\n",
    "    salario = float(input(f'SALARIO FORA DO ESPERADO. Digite um salario maior que 0: '))\n",
    "\n",
    "gen = input(f'Digite o gênero (M, F ou O): ')\n",
    "\n",
    "while (gen.lower() != \"m\") and (gen.lower() != \"f\") and (gen.lower() != \"o\"):\n",
    "    gen = input(f'GENERO FORA DO ESPERADO. Digite o gênero (M, F ou O): ')\n",
    "\n",
    "print(f'PARABÉNS, você concluiu com os dados: \\nIDADE: {idade} \\nSALARIO: {salario} \\nGENERO: {gen.upper()}')\n"
   ]
  },
  {
   "cell_type": "markdown",
   "metadata": {},
   "source": [
    "8 Desafio! - Calcule a soma de até mil termos da série 1 + 1/2 + 1/4 + 1/8 + 1/16 + ...\n",
    "\n",
    "Dica: Use três variáveis:\n",
    "\n",
    "• um contador, que começa em zero;\n",
    "\n",
    "• uma variável para a soma de todos os termos, que também começa em zero;\n",
    "\n",
    "• uma variável para cada termo, que começa em 1 e a cada loop é dividida por 2.\n",
    "\n",
    "A repetição da soma de mil termos pode ser feita com a função while contador < 1000."
   ]
  },
  {
   "cell_type": "code",
   "execution_count": 22,
   "metadata": {},
   "outputs": [
    {
     "name": "stdout",
     "output_type": "stream",
     "text": [
      "2.0\n"
     ]
    }
   ],
   "source": [
    "contador = 0\n",
    "soma = 0\n",
    "termo = 1\n",
    "\n",
    "while contador < 1000:\n",
    "    soma += termo\n",
    "    termo /= 2\n",
    "    contador += 1\n",
    "\n",
    "print(soma)"
   ]
  },
  {
   "cell_type": "markdown",
   "metadata": {},
   "source": [
    "9 Super Desafio! - Calcule a soma de mil termos dos inversos dos fatoriais: 1/(1!) + 1/(2!) + 1/(3!) + 1/(4!) + ...\n",
    "\n",
    "Dica: Assim como no exercício anterior use três variáveis: um contador; uma variável para a soma; e uma variável para os termos. Lembre-se de que 4! = 4*3*2*1 que também é igual a 4*3!."
   ]
  },
  {
   "cell_type": "code",
   "execution_count": 24,
   "metadata": {},
   "outputs": [
    {
     "name": "stdout",
     "output_type": "stream",
     "text": [
      "1.7182818284590455\n"
     ]
    }
   ],
   "source": [
    "contador = 1\n",
    "soma = 0\n",
    "fatorial = 1\n",
    "\n",
    "while contador <= 1000:\n",
    "    fatorial *= contador\n",
    "    soma += (1/fatorial)\n",
    "    contador += 1\n",
    "\n",
    "print(soma)"
   ]
  },
  {
   "cell_type": "markdown",
   "metadata": {},
   "source": [
    "#While Loop"
   ]
  },
  {
   "cell_type": "markdown",
   "metadata": {},
   "source": [
    "1 Faça um script que peça para um usuário digitar um número e que só finaliza quando o usuário digitar 0."
   ]
  },
  {
   "cell_type": "code",
   "execution_count": 26,
   "metadata": {},
   "outputs": [
    {
     "name": "stdout",
     "output_type": "stream",
     "text": [
      "FIM!\n"
     ]
    }
   ],
   "source": [
    "num = -1\n",
    "while num != 0:\n",
    "    num = int(input(\"Digite ZERO para finalizar: \"))\n",
    "\n",
    "print(f'FIM!')\n"
   ]
  },
  {
   "cell_type": "markdown",
   "metadata": {},
   "source": [
    "2 Faça um script que peça para o usuário digitar a idade, o salário e o sexo de uma pessoa até que as entradas digitadas sejam válidas.\n",
    "\n",
    "Idade: entre 0 e 150;\n",
    "Salário: maior que 0;\n",
    "Gênero: M, F ou Outro.\n",
    "Por último imprima os dados recebidos do usuário."
   ]
  },
  {
   "cell_type": "code",
   "execution_count": 27,
   "metadata": {},
   "outputs": [
    {
     "name": "stdout",
     "output_type": "stream",
     "text": [
      "PARABÉNS, você concluiu com os dados: \n",
      "IDADE: 23 \n",
      "SALARIO: 1000.0 \n",
      "GENERO: M\n"
     ]
    }
   ],
   "source": [
    "idade = int(input(f'Digite uma idade entre 0 e 150: '))\n",
    "\n",
    "while (0 > idade) or  (idade > 150):\n",
    "    idade = int(input(f'IDADE FORA DO ESPERADO. Digite uma idade entre 0 e 150: '))\n",
    "\n",
    "salario = float(input(f'Digite um salario maior que 0: '))\n",
    "\n",
    "while (salario < 0):\n",
    "    salario = float(input(f'SALARIO FORA DO ESPERADO. Digite um salario maior que 0: '))\n",
    "\n",
    "gen = input(f'Digite o gênero (M, F ou O): ')\n",
    "\n",
    "while (gen.lower() != \"m\") and (gen.lower() != \"f\") and (gen.lower() != \"o\"):\n",
    "    gen = input(f'GENERO FORA DO ESPERADO. Digite o gênero (M, F ou O): ')\n",
    "\n",
    "print(f'PARABÉNS, você concluiu com os dados: \\nIDADE: {idade} \\nSALARIO: {salario} \\nGENERO: {gen.upper()}')"
   ]
  },
  {
   "cell_type": "markdown",
   "metadata": {},
   "source": [
    "3 Faça um script que peça ao usuário para digitar um número n e some todos os números de 1 a n.\n",
    "\n",
    "Exemplo 1:\n",
    "input: 4\n",
    "output: 10\n",
    "\n",
    "Exemplo 2:\n",
    "input: 10\n",
    "output: 55"
   ]
  },
  {
   "cell_type": "code",
   "execution_count": 30,
   "metadata": {},
   "outputs": [
    {
     "name": "stdout",
     "output_type": "stream",
     "text": [
      "4+...+1 = 10.\n"
     ]
    }
   ],
   "source": [
    "num = int(input(\"Digite um número (inteiro e maior que 1) para saber a soma de todos os números entre 1 e ele: \"))\n",
    "contador = num\n",
    "soma = 1\n",
    "\n",
    "while contador > 1:\n",
    "    soma += contador\n",
    "    contador -= 1\n",
    "\n",
    "print(f'{num}+...+1 = {soma}.')"
   ]
  },
  {
   "cell_type": "markdown",
   "metadata": {},
   "source": [
    "4 Faça um script que peça para um usuário digitar um número e que só finaliza quando o usuário digitar 0. Ao final imprima a soma de todos os números digitados.\n",
    "\n",
    "Exemplo\n",
    "input: 5\n",
    "input: 1\n",
    "input: 0\n",
    "output: 6"
   ]
  },
  {
   "cell_type": "code",
   "execution_count": 31,
   "metadata": {},
   "outputs": [
    {
     "name": "stdout",
     "output_type": "stream",
     "text": [
      "A soma total é 6\n"
     ]
    }
   ],
   "source": [
    "num = int(input(\"Digite um número para somar, ou ZERO para finalizar: \"))\n",
    "\n",
    "soma = num\n",
    "\n",
    "while num != 0:\n",
    "    num = int(input(\"Digite outro número para somar, ou ZERO para finalizar: \"))\n",
    "    soma += num\n",
    "\n",
    "print(f'A soma total é {soma}')"
   ]
  }
 ],
 "metadata": {
  "interpreter": {
   "hash": "31f2aee4e71d21fbe5cf8b01ff0e069b9275f58929596ceb00d14d90e3e16cd6"
  },
  "kernelspec": {
   "display_name": "Python 3.8.9 64-bit",
   "language": "python",
   "name": "python3"
  },
  "language_info": {
   "codemirror_mode": {
    "name": "ipython",
    "version": 3
   },
   "file_extension": ".py",
   "mimetype": "text/x-python",
   "name": "python",
   "nbconvert_exporter": "python",
   "pygments_lexer": "ipython3",
   "version": "3.8.9"
  },
  "orig_nbformat": 4
 },
 "nbformat": 4,
 "nbformat_minor": 2
}
