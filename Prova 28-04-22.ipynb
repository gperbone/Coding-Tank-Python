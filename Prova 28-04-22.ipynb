{
 "cells": [
  {
   "cell_type": "markdown",
   "metadata": {},
   "source": [
    "#Prova"
   ]
  },
  {
   "cell_type": "markdown",
   "metadata": {},
   "source": [
    "1. Gerador de senha\n",
    "\n",
    "Escreva uma função que gere uma senha aleatória para o usuário. O programa deve perguntar para o usuário quantas letras e quantos números desejará nessa senha, e a senha retornada deve ter aleatoriamente letras maiúsculas e minúsculas. A ordem entre letras e números não precisa ser aleatória.\n",
    "\n",
    "Como dica utilize o código dado\n",
    "\n",
    "import random\n",
    "\n",
    "num = random.randint(0, 5) # número aleatório entre 0 e 5.\n",
    "\n",
    "random.random() #retorna um float aleatorio entre 0 e 1"
   ]
  },
  {
   "cell_type": "code",
   "execution_count": 64,
   "metadata": {},
   "outputs": [
    {
     "name": "stdout",
     "output_type": "stream",
     "text": [
      "Sua nova senha gerada é: 419H5n26\n"
     ]
    }
   ],
   "source": [
    "import random\n",
    "\n",
    "def gerar_senha():\n",
    "    #pergunta ao user a quantidae de números e valida\n",
    "    qtd_num = input(\"Quantos números a senha deve ter?\")\n",
    "\n",
    "    while qtd_num.isdigit() == False:\n",
    "        qtd_num = input(\"Digite apenas números inteiros. Quantos números a senha deve ter? \")\n",
    "\n",
    "    #pergunta ao user a quantidae de letras e valida\n",
    "    qtd_letra = input(\"Quantas letras a senha deve ter?\")\n",
    "\n",
    "    while qtd_letra.isdigit() == False:\n",
    "        qtd_letra = input(\"Digite apenas números inteiros. Quantas letras a senha deve ter? \")\n",
    "    \n",
    "    letras = 'abcdefghijklmnopqrstuvwxyzABCDEFGHIJKLMNOPQRSTUVWXYZ' #52 no total (posiçoes de 0 a 51)\n",
    "\n",
    "    caracteres = []\n",
    "\n",
    "    #sorteando as letras da senha\n",
    "    contador_letras = 0\n",
    "    while contador_letras < int(qtd_letra):\n",
    "        caracteres.append(letras[random.randint(0,51)])\n",
    "        contador_letras += 1\n",
    "\n",
    "    #sorteando os números da senha\n",
    "    contador_numeros = 0\n",
    "    while contador_numeros < int(qtd_num):\n",
    "        caracteres.append(random.randint(0,9))\n",
    "        contador_numeros += 1\n",
    "\n",
    "    #aleatorizando a senha\n",
    "    contador_aleatorizador = len(caracteres)\n",
    "    senha = \"\"\n",
    "    \n",
    "    while contador_aleatorizador > 0:\n",
    "        indice_aleatorio = random.randint(0, (len(caracteres)-1))\n",
    "        senha += str(caracteres[indice_aleatorio])\n",
    "        caracteres.pop(indice_aleatorio)\n",
    "        contador_aleatorizador -= 1\n",
    "\n",
    "    return senha\n",
    "\n",
    "nova_senha = gerar_senha()\n",
    "print(f'Sua nova senha gerada é: {nova_senha}')"
   ]
  },
  {
   "cell_type": "markdown",
   "metadata": {},
   "source": [
    "Enunciado\n",
    "Pedra, papel, tesoura\n",
    "\n",
    "Faça uma função que funcione como o jogo \"pedra, papel, tesoura\", onde um usuário joga contra o computador. A escolha do usuário é fornecida através do comando input(), enquanto que a do computador é escolhida aleatoriamente. O programa deve perguntar se o usuário quer jogar novamente.\n",
    "\n",
    "Regras do jogo:\n",
    "\n",
    "papel vence pedra\n",
    "\n",
    "pedra vence tesoura\n",
    "\n",
    "tesoura vence papel\n",
    "\n",
    "Como dica, utilize o código dado:\n",
    "\n",
    "import random\n",
    "\n",
    "opcoes = ['pedra', 'papel', 'tesoura']"
   ]
  },
  {
   "cell_type": "code",
   "execution_count": 66,
   "metadata": {},
   "outputs": [
    {
     "name": "stdout",
     "output_type": "stream",
     "text": [
      "_-˜-_-˜-_ BEM VINDO AO PEDRA, PAPEL, TESOURA! _-˜-_-˜-_\n",
      "HOUVE UM EMPATE! Você jogou PEDRA e o computador PEDRA!\n",
      "RESPOSTA INVÁLIDA! Tente novamente!\n",
      "VOCÊ VENCEU! Você jogou PAPEL e o computador PEDRA!\n",
      "RESPOSTA INVÁLIDA! Tente novamente!\n",
      "RESPOSTA INVÁLIDA! Tente novamente!\n",
      "OPCÃO INVÁLDA! Tente novamente!\n",
      "VOCÊ VENCEU! Você jogou TESOURA e o computador PAPEL!\n",
      "_-˜-_-˜-_ JOGO ENCERRADO! _-˜-_-˜-_\n"
     ]
    }
   ],
   "source": [
    "import random\n",
    "\n",
    "def pedra_papel_tesoura():\n",
    "    opcoes = ['pedra', 'papel', 'tesoura']\n",
    "    #pede input do user e valida\n",
    "    opcao_user = input(\"Digite 1 para PEDRA, 2 para PAPEL e 3 para TESOURA: \")\n",
    "    \n",
    "    while opcao_user not in [\"1\", \"2\", \"3\"]:\n",
    "        print(\"OPCÃO INVÁLDA! Tente novamente!\")\n",
    "        opcao_user = input(\"OPCÃO INVÁLDA! Digite 1 para PEDRA, 2 para PAPEL e 3 para TESOURA: \") \n",
    "    \n",
    "    opcao_user = opcoes[int(opcao_user) - 1]\n",
    "    #sorteia opcao da maquina\n",
    "    opcao_maquina = opcoes[random.randint(0,2)]\n",
    "    resultado = ''\n",
    "\n",
    "    if opcao_user == opcao_maquina:\n",
    "        resultado = \"HOUVE UM EMPATE\"\n",
    "    elif opcao_user == \"pedra\":\n",
    "        if opcao_maquina == \"papel\":\n",
    "            resultado = \"VOCÊ PERDEU\"\n",
    "        elif opcao_maquina == \"tesoura\":\n",
    "            resultado = \"VOCÊ VENCEU\"\n",
    "    elif opcao_user == \"papel\":\n",
    "        if opcao_maquina == \"pedra\":\n",
    "            resultado = \"VOCÊ VENCEU\"\n",
    "        elif opcao_maquina == \"tesoura\":\n",
    "            resultado = \"VOCÊ PERDEU\"\n",
    "    elif opcao_user == \"tesoura\":\n",
    "        if opcao_maquina == \"pedra\":\n",
    "            resultado = \"VOCÊ PERDEU\"\n",
    "        elif opcao_maquina == \"papel\":\n",
    "            resultado = \"VOCÊ VENCEU\"\n",
    "\n",
    "    return f\"{resultado}! Você jogou {opcao_user.upper()} e o computador {opcao_maquina.upper()}!\"\n",
    "\n",
    "jogo_ativo = \"S\"\n",
    "print(\"_-˜-_-˜-_ BEM VINDO AO PEDRA, PAPEL, TESOURA! _-˜-_-˜-_\")\n",
    "\n",
    "while jogo_ativo.upper() == \"S\":\n",
    "    print(pedra_papel_tesoura())\n",
    "\n",
    "    jogo_ativo = input(\"Deseja jogar novamente? Digite S para SIM e N para NÃO: \")\n",
    "\n",
    "    while jogo_ativo.upper() != \"S\" and jogo_ativo.upper() != \"N\":\n",
    "        print(\"RESPOSTA INVÁLIDA! Tente novamente!\")\n",
    "        jogo_ativo = input(\"RESPOSTA INVÁLIDA! Deseja jogar novamente? Digite S para SIM e N para NÃO: \")\n",
    "\n",
    "print(\"_-˜-_-˜-_ JOGO ENCERRADO! _-˜-_-˜-_\")"
   ]
  },
  {
   "cell_type": "markdown",
   "metadata": {},
   "source": [
    "3. Remove Divisíveis\n",
    "\n",
    "Faça uma função que recebe uma lista com inteiros e devolva a lista sem os números divisíveis por 2 e/ou por 5. Exemplo:\n",
    "\n",
    "Entrada: [1, 4, 7, 1, 90, 63, 7, 17, 86, 71]\n",
    "Saída: [1, 7, 1, 63, 7, 17, 71]"
   ]
  },
  {
   "cell_type": "code",
   "execution_count": 71,
   "metadata": {},
   "outputs": [
    {
     "data": {
      "text/plain": [
       "[1, 7, 1, 63, 7, 17, 71]"
      ]
     },
     "execution_count": 71,
     "metadata": {},
     "output_type": "execute_result"
    }
   ],
   "source": [
    "def remove_divisiveis(lista):\n",
    "    #validando a lista\n",
    "    contador = 0\n",
    "    while contador < len(lista):\n",
    "        if type(lista[contador]) != int:\n",
    "            return \"Esta lista não é composta apenas de números inteiros! Tente novamente!\" \n",
    "        contador += 1\n",
    "    \n",
    "    #cria nova lista para adicionar apenas numeros não divisíveis por 2 e/ou por 5\n",
    "    nova_lista = []\n",
    "    contador = 0\n",
    "    while contador < len(lista):\n",
    "        if not(lista[contador] % 2 == 0) and not(lista[contador] % 5 == 0):\n",
    "            nova_lista.append(lista[contador])\n",
    "        contador += 1\n",
    "\n",
    "    return nova_lista\n",
    "\n",
    "lista_entrada = [1, 4, 7, 1, 90, 63, 7, 17, 86, 71]\n",
    "remove_divisiveis(lista_entrada)"
   ]
  },
  {
   "cell_type": "markdown",
   "metadata": {},
   "source": [
    "4. Faça uma função que some todos os inteiros de uma lista de N dimensões. Por exemplo, se inserirmos a lista:\n",
    "\n",
    "lista = [1, 10, [4, 7, [4, 9], 0], [1, [3, [5]]], 7]\n",
    "Teremos como resposta 51. Note que a quantidade de listas aninhadas não é definida e seu programa deve funcionar para qualquer estrutura de lista de inteiros aninhada."
   ]
  },
  {
   "cell_type": "code",
   "execution_count": 85,
   "metadata": {},
   "outputs": [
    {
     "name": "stdout",
     "output_type": "stream",
     "text": [
      "51\n",
      "66\n",
      "Ops! O ítem 'toi' não é um inteiro! Mas vou ignorar ele e continuar a somar todos os inteiros!\n",
      "66\n",
      "Ops! O ítem '7.0' não é um inteiro! Mas vou ignorar ele e continuar a somar todos os inteiros!\n",
      "66\n"
     ]
    }
   ],
   "source": [
    "def soma_todos_numeros(lista):\n",
    "    soma = 0\n",
    "    contador = 0\n",
    "\n",
    "    while contador < len(lista):\n",
    "        if type(lista[contador]) == int:\n",
    "            soma += lista[contador]\n",
    "        elif type(lista[contador]) == list:\n",
    "            soma += soma_todos_numeros(lista[contador])\n",
    "        else:\n",
    "            print(f\"Ops! O ítem '{lista[contador]}' não é um inteiro! Mas vou ignorar ele e continuar a somar todos os inteiros!\")\n",
    "        contador += 1\n",
    "\n",
    "    return soma\n",
    "\n",
    "print(soma_todos_numeros([1, 10, [4, 7, [4, 9], 0], [1, [3, [5]]], 7]))\n",
    "print(soma_todos_numeros([[4, [5,[6, 0, 0, [0]]]], 1, 10, [4, 7, [4, 9], 0], [1, [3, [5]]], 7]))\n",
    "print(soma_todos_numeros([[4, \"toi\", [5,[6, 0, 0, [0]]]], 1, 10, [4, 7, [4, 9], 0], [1, [3, [5]]], 7]))\n",
    "print(soma_todos_numeros([[4, 7.0, [5,[6, 0, 0, [0]]]], 1, 10, [4, 7, [4, 9], 0], [1, [3, [5]]], 7]))"
   ]
  },
  {
   "cell_type": "markdown",
   "metadata": {},
   "source": [
    "5. Enunciado\n",
    "Faça uma função que receba uma lista de N dimensões e um valor e remova este valor de toda a estrutura, incluindo as sublistas. Por exemplo, se inserirmos a lista e o valor:\n",
    "\n",
    "lista = [1, 10, [4, 7, [4, 9], 0], 4, [1, [3, [5]], 4], 7]\n",
    "valor = 4\n",
    "Devemos receber na saída:\n",
    "\n",
    "lista = [1, 10, [7, [9], 0], [1, [3, [5]]], 7]\n",
    "Note que a quantidade de listas aninhadas não é definida e seu programa deve funcionar para qualquer estrutura de listas aninhada.\n",
    "\n",
    "Note, também, que apesar do exemplo ser feito com inteiros qualquer tipo de dado deve funcionar."
   ]
  },
  {
   "cell_type": "code",
   "execution_count": 96,
   "metadata": {},
   "outputs": [
    {
     "name": "stdout",
     "output_type": "stream",
     "text": [
      "[10, [4, 7, [4, 9], 0], 4, [[3, [5]], 4], 7]\n",
      "[1, 10, [4, 7, [4, 9], 0], 4, [1, 4], 7]\n"
     ]
    }
   ],
   "source": [
    "def remove_valor(lista, valor):\n",
    "  contador = 0\n",
    "  nova_lista = []\n",
    "\n",
    "  while contador < len(lista):\n",
    "    if (lista[contador] != valor) and (type(lista[contador]) != list):\n",
    "        nova_lista.append(lista[contador])\n",
    "    elif type(lista[contador]) == list:\n",
    "        #aqui, se a lista for igual ao \"valor\" passado, já não consideramos ela toda!\n",
    "        if lista[contador] != valor:\n",
    "            nova_lista.append(remove_valor(lista[contador], valor))\n",
    "\n",
    "    contador += 1\n",
    "\n",
    "  return nova_lista\n",
    "\n",
    "print(remove_valor([1, 10, [4, 7, [4, 9], 0], 4, [1, [3, [5]], 4], 7], 4))\n",
    "print(remove_valor([1, 10, [4, 7, [4, 9], 0], 4, [1, [3, [5]], 4], 7], [3, [5]]))"
   ]
  }
 ],
 "metadata": {
  "interpreter": {
   "hash": "31f2aee4e71d21fbe5cf8b01ff0e069b9275f58929596ceb00d14d90e3e16cd6"
  },
  "kernelspec": {
   "display_name": "Python 3.8.9 64-bit",
   "language": "python",
   "name": "python3"
  },
  "language_info": {
   "codemirror_mode": {
    "name": "ipython",
    "version": 3
   },
   "file_extension": ".py",
   "mimetype": "text/x-python",
   "name": "python",
   "nbconvert_exporter": "python",
   "pygments_lexer": "ipython3",
   "version": "3.8.9"
  },
  "orig_nbformat": 4
 },
 "nbformat": 4,
 "nbformat_minor": 2
}
