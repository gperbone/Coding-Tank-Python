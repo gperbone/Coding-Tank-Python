{
 "cells": [
  {
   "cell_type": "markdown",
   "metadata": {
    "id": "MJpfkLpO7G2h"
   },
   "source": [
    "---\n",
    "\n",
    "## Exercícios\n",
    "\n",
    "**1)** Imprima os seguintes padrões usando loops:\n",
    "\n",
    "a.<br>\n",
    "\n",
    "\\*<br>\n",
    "\\*\\*<br>\n",
    "\\*\\*\\*<br>\n",
    "\\*\\*\\*\\*<br>\n",
    "\n",
    "b.<br>\n",
    "\n",
    "  \\*  <br>\n",
    " \\*\\*\\* <br>\n",
    "\\*\\*\\*\\*\\*<br>\n",
    " \\*\\*\\* <br>\n",
    "  \\*  <br>"
   ]
  },
  {
   "cell_type": "code",
   "execution_count": 43,
   "metadata": {},
   "outputs": [
    {
     "name": "stdout",
     "output_type": "stream",
     "text": [
      "Digite um numero inteiro5\n",
      "*\n",
      "**\n",
      "***\n",
      "****\n",
      "*****\n"
     ]
    }
   ],
   "source": [
    "n = int(input('Digite um numero inteiro'))\n",
    "\n",
    "i = 1\n",
    "\n",
    "while i <= n:\n",
    "    print(i * '*')\n",
    "    i += 1\n",
    "    "
   ]
  },
  {
   "cell_type": "code",
   "execution_count": 45,
   "metadata": {
    "id": "DA-i8uv77G2h"
   },
   "outputs": [
    {
     "name": "stdout",
     "output_type": "stream",
     "text": [
      "Digite um inteiro positivo ímpar: 9\n",
      "\n",
      "    *\n",
      "   ***\n",
      "  *****\n",
      " *******\n",
      "*********\n",
      " *******\n",
      "  *****\n",
      "   ***\n",
      "    *\n"
     ]
    }
   ],
   "source": [
    "n = int(input('Digite um inteiro positivo ímpar: '))\n",
    "\n",
    "while n%2 == 0 or n < 0:\n",
    "    n = int(input('Digite um inteiro positivo ímpar: '))\n",
    "    \n",
    "i = 1\n",
    "total_espacos = n//2\n",
    "total_astericos = i\n",
    "\n",
    "print()\n",
    "\n",
    "while i <= n:\n",
    "\n",
    "    texto = (' ' * total_espacos) + ('*' * total_astericos)\n",
    "\n",
    "    print(texto)\n",
    "\n",
    "    i += 1\n",
    "\n",
    "    if i <= (n//2 + 1):\n",
    "        total_espacos -= 1\n",
    "        total_astericos += 2\n",
    "\n",
    "    else:\n",
    "        total_espacos += 1\n",
    "        total_astericos -= 2\n",
    "        \n"
   ]
  },
  {
   "cell_type": "markdown",
   "metadata": {
    "id": "4nNO3bE57G2h"
   },
   "source": [
    "**2)** Inverta um número inteiro sem utilizar dados do tipo string.\n",
    "\n",
    "**Ex:** <br>\n",
    "3715 -> 5173 <br>\n",
    "7000 -> 7 (Zeros a esquerda naturalmente não são exibidos)"
   ]
  },
  {
   "cell_type": "code",
   "execution_count": 46,
   "metadata": {
    "id": "CTOBKYi97G2h"
   },
   "outputs": [
    {
     "name": "stdout",
     "output_type": "stream",
     "text": [
      "Digite um inteiro positivo: 123456\n",
      "6\n"
     ]
    }
   ],
   "source": [
    "n = int(input('Digite um inteiro positivo: '))\n",
    "\n",
    "while n < 0:\n",
    "    n = int(input('Digite um inteiro positivo: '))\n",
    "    \n",
    "n_digit = 0\n",
    "\n",
    "while n//(10**n_digit) > 0:\n",
    "    n_digit += 1\n",
    "    \n",
    "# n_digit = len(str(n))\n",
    "\n",
    "print(n_digit)\n"
   ]
  },
  {
   "cell_type": "code",
   "execution_count": 48,
   "metadata": {},
   "outputs": [
    {
     "name": "stdout",
     "output_type": "stream",
     "text": [
      "123456 -> 654321\n"
     ]
    }
   ],
   "source": [
    "i = n_digit\n",
    "\n",
    "n_invertido = 0\n",
    "\n",
    "while i >= 1:\n",
    "\n",
    "    n_aux = (n%(10**(i)))//(10**(i-1))\n",
    "#     print(n_aux)\n",
    "    n_aux *= 10**(n_digit - i)\n",
    "#     print(n_aux)\n",
    "\n",
    "    n_invertido += n_aux\n",
    "\n",
    "    i -= 1\n",
    "\n",
    "\n",
    "print(f'{n} -> {n_invertido}')\n",
    "\n"
   ]
  },
  {
   "cell_type": "markdown",
   "metadata": {
    "id": "67AvUYjj7G2h"
   },
   "source": [
    "**3)** Escreva um programa que encontra o maximo divisor comum entre dois números"
   ]
  },
  {
   "cell_type": "code",
   "execution_count": 53,
   "metadata": {
    "id": "DwONIzfp7G2i"
   },
   "outputs": [
    {
     "name": "stdout",
     "output_type": "stream",
     "text": [
      "Digite um inteiro positivo: 24\n",
      "Digite um inteiro positivo: 18\n",
      "\n",
      "O MDC entre 24 e 18 é 6\n"
     ]
    }
   ],
   "source": [
    "n1 = int(input('Digite um inteiro positivo: '))\n",
    "n2 = int(input('Digite um inteiro positivo: '))\n",
    "\n",
    "mdc = n1 if n1 < n2 else n2\n",
    "# mdc = min(n1, n2)\n",
    "\n",
    "while n1%mdc != 0 or n2%mdc != 0:\n",
    "    mdc -= 1\n",
    "\n",
    "print(f'\\nO MDC entre {n1} e {n2} é {mdc}')\n"
   ]
  },
  {
   "cell_type": "markdown",
   "metadata": {
    "id": "4OhEAxK47G2i"
   },
   "source": [
    "**4)** Faça a somatória de todos os numeros seguindo a sequência: <br>\n",
    "\n",
    "$ \\frac{1}{1} + \\frac{1}{2} + \\frac{1}{3} + \\frac{1}{4} + \\frac{1}{5} + \\frac{1}{6} + ... + \\frac{1}{1000} $\n",
    "\n"
   ]
  },
  {
   "cell_type": "code",
   "execution_count": 52,
   "metadata": {
    "id": "gZbBBbo47G2i"
   },
   "outputs": [
    {
     "name": "stdout",
     "output_type": "stream",
     "text": [
      "7.485470860550343\n"
     ]
    }
   ],
   "source": [
    "soma = 0\n",
    "i = 1\n",
    "limite = 1000\n",
    "\n",
    "while i <= limite:\n",
    "    soma += 1/i\n",
    "\n",
    "    i += 1\n",
    "\n",
    "print(soma)"
   ]
  },
  {
   "cell_type": "markdown",
   "metadata": {
    "id": "kDbqmIe27G2i"
   },
   "source": [
    "\n",
    "$ \\frac{1}{1} + \\frac{1}{2} + \\frac{1}{4} + \\frac{1}{8} + \\frac{1}{16} + \\frac{1}{32} + ... + \\frac{1}{2^{n}} $\n",
    "\n"
   ]
  },
  {
   "cell_type": "code",
   "execution_count": 55,
   "metadata": {
    "id": "NM3mNATj7G2i"
   },
   "outputs": [
    {
     "name": "stdout",
     "output_type": "stream",
     "text": [
      "2.0\n"
     ]
    }
   ],
   "source": [
    "soma = 0\n",
    "i = 0\n",
    "limite = 60\n",
    "\n",
    "while i <= limite:\n",
    "    soma += 1/(2**i)\n",
    "\n",
    "    i += 1\n",
    "\n",
    "print(soma)"
   ]
  },
  {
   "cell_type": "markdown",
   "metadata": {
    "id": "DJ0zmu6i7G2i"
   },
   "source": [
    "**5)** Seguindo a mesma ideia do exercício 4, faça a soma da seguinte sequência: <br>\n",
    "\n",
    "$ \\frac{1}{1!} + \\frac{1}{2!} + \\frac{1}{3!} + \\frac{1}{4!} + \\frac{1}{5!} + \\frac{1}{6!} + ... + \\frac{1}{100!} $"
   ]
  },
  {
   "cell_type": "code",
   "execution_count": 57,
   "metadata": {
    "id": "xsQzVexQ7G2i"
   },
   "outputs": [
    {
     "name": "stdout",
     "output_type": "stream",
     "text": [
      "1.7182818284590455\n"
     ]
    }
   ],
   "source": [
    "soma = 0\n",
    "i = 1\n",
    "limite = 100\n",
    "\n",
    "while i <= limite:\n",
    "\n",
    "    fatorial = 1\n",
    "    j = 1\n",
    "\n",
    "    while j <= i:\n",
    "        fatorial *= j\n",
    "        j += 1\n",
    "    \n",
    "        soma += 1/fatorial\n",
    "#     soma += fatorial**(-1)\n",
    "\n",
    "    i += 1\n",
    "\n",
    "print(soma)"
   ]
  },
  {
   "cell_type": "code",
   "execution_count": 33,
   "metadata": {},
   "outputs": [],
   "source": [
    "import math"
   ]
  },
  {
   "cell_type": "code",
   "execution_count": 34,
   "metadata": {},
   "outputs": [
    {
     "data": {
      "text/plain": [
       "2.718281828459045"
      ]
     },
     "execution_count": 34,
     "metadata": {},
     "output_type": "execute_result"
    }
   ],
   "source": [
    "math.e"
   ]
  }
 ],
 "metadata": {
  "colab": {
   "collapsed_sections": [],
   "name": "Aula 3 - While.ipynb",
   "provenance": []
  },
  "kernelspec": {
   "display_name": "Python 3 (ipykernel)",
   "language": "python",
   "name": "python3"
  },
  "language_info": {
   "codemirror_mode": {
    "name": "ipython",
    "version": 3
   },
   "file_extension": ".py",
   "mimetype": "text/x-python",
   "name": "python",
   "nbconvert_exporter": "python",
   "pygments_lexer": "ipython3",
   "version": "3.9.7"
  }
 },
 "nbformat": 4,
 "nbformat_minor": 1
}
