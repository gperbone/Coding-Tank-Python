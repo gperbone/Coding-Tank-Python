{
  "cells": [
    {
      "cell_type": "markdown",
      "metadata": {
        "id": "ksWegZoKs1PA"
      },
      "source": [
        "## 🎯 Exercícios 🎯 <a class=\"anchor\" id=\"cinco\"></a>\n",
        "\n",
        "**1)** Faça um Programa que mostre a mensagem \"Alo mundo\" na tela."
      ]
    },
    {
      "cell_type": "code",
      "execution_count": 1,
      "metadata": {
        "colab": {
          "base_uri": "https://localhost:8080/"
        },
        "id": "Ajg4JjQSs1PA",
        "outputId": "54b95953-32fb-4dc6-fa37-3ffc8e22f5ab"
      },
      "outputs": [
        {
          "name": "stdout",
          "output_type": "stream",
          "text": [
            "Alo mundo\n"
          ]
        }
      ],
      "source": [
        "print('Alo mundo')"
      ]
    },
    {
      "cell_type": "markdown",
      "metadata": {
        "id": "UbK0yPCys1PB"
      },
      "source": [
        "**2)** Faça um Programa que peça as 4 notas bimestrais e mostre a média."
      ]
    },
    {
      "cell_type": "code",
      "execution_count": 3,
      "metadata": {
        "colab": {
          "base_uri": "https://localhost:8080/"
        },
        "id": "6Q6tE9z9s1PB",
        "outputId": "0aad3ee8-fdfb-4997-c436-f8bf099ebf96"
      },
      "outputs": [
        {
          "name": "stdout",
          "output_type": "stream",
          "text": [
            "Qual é a nota do 1o bimestre?5\n",
            "Qual é a nota do 2o bimestre?5\n",
            "Qual é a nota do 3o bimestre?10\n",
            "Qual é a nota do 4o bimestre?10\n",
            "Sua média é: 7.5\n"
          ]
        }
      ],
      "source": [
        "nota1 = float(input('Qual é a nota do 1o bimestre?'))\n",
        "nota2 = float(input('Qual é a nota do 2o bimestre?'))\n",
        "nota3 = float(input('Qual é a nota do 3o bimestre?'))\n",
        "nota4 = float(input('Qual é a nota do 4o bimestre?'))\n",
        "\n",
        "media = (nota1 + nota2 + nota3 + nota4)/4\n",
        "print('Sua média é:', media)\n"
      ]
    },
    {
      "cell_type": "markdown",
      "metadata": {
        "id": "ED1eOWnfs1PB"
      },
      "source": [
        "**3)** Faça um Programa que pergunte quanto você ganha por hora e o número de horas trabalhadas no mês. Calcule e mostre o total do seu salário no referido mês."
      ]
    },
    {
      "cell_type": "code",
      "execution_count": 5,
      "metadata": {
        "colab": {
          "base_uri": "https://localhost:8080/"
        },
        "id": "elBT1_j-s1PB",
        "outputId": "d07acb8e-8347-4d5f-aaf8-9617d7d1eb72"
      },
      "outputs": [
        {
          "name": "stdout",
          "output_type": "stream",
          "text": [
            "Quanto você ganha por hora trabalhada?10\n",
            "Quantas horas você trabalhou9\n",
            "Seu salário neste mês será 90.0\n"
          ]
        }
      ],
      "source": [
        "ganho_hora = float(input('Quanto você ganha por hora trabalhada? '))\n",
        "horas_trabalhadas = float(input('Quantas horas você trabalhou? '))\n",
        "\n",
        "salario = ganho_hora * horas_trabalhadas\n",
        "print('Seu salário neste mês será', salario)"
      ]
    },
    {
      "cell_type": "markdown",
      "metadata": {
        "id": "d4cKZGA5s1PC"
      },
      "source": [
        "**4)** Faça um Programa que peça a temperatura em graus Fahrenheit, transforme e mostre a temperatura em graus Celsius.<br>\n",
        "\n",
        "$$ C = \\frac{5 * (F-32)}{9} $$"
      ]
    },
    {
      "cell_type": "code",
      "execution_count": 1,
      "metadata": {
        "colab": {
          "base_uri": "https://localhost:8080/"
        },
        "id": "_xL0P4KFs1PC",
        "outputId": "0cc6bdf1-3216-422e-f8d6-a8ffc6be1316"
      },
      "outputs": [
        {
          "name": "stdout",
          "output_type": "stream",
          "text": [
            "A temperatura 32.0 °F em Celsius é 0.0 °C\n"
          ]
        }
      ],
      "source": [
        "tempF = float(input('Qual é a temperatura em Fahrenheit?'))\n",
        "\n",
        "tempC = (5*(tempF - 32))/9\n",
        "\n",
        "print('A temperatura', tempF, '°F em Celsius é', tempC, '°C')"
      ]
    },
    {
      "cell_type": "markdown",
      "metadata": {
        "id": "_LFfv-s2Ax2o"
      },
      "source": [
        "**5)** Faça um programa que pede um número e imprime a tabuada de desse número."
      ]
    },
    {
      "cell_type": "code",
      "execution_count": 2,
      "metadata": {
        "colab": {
          "base_uri": "https://localhost:8080/"
        },
        "id": "-p5CTJxiAx2o",
        "outputId": "7c628301-c3dc-4e05-f1dd-5a2aa23a8b05"
      },
      "outputs": [
        {
          "name": "stdout",
          "output_type": "stream",
          "text": [
            "4.0 x 1 = 4.0\n",
            "4.0 x 2 = 8.0\n",
            "4.0 x 3 = 12.0\n",
            "4.0 x 4 = 16.0\n",
            "4.0 x 5 = 20.0\n",
            "4.0 x 6 = 24.0\n",
            "4.0 x 7 = 28.0\n",
            "4.0 x 8 = 32.0\n",
            "4.0 x 9 = 36.0\n",
            "4.0 x 10 = 40.0\n"
          ]
        }
      ],
      "source": [
        "numero = float(input('Escolha um número para a tabuada:'))\n",
        "\n",
        "for i in range(1,11):\n",
        "    print(numero, 'x', i, '=', numero*i)\n"
      ]
    },
    {
      "cell_type": "markdown",
      "metadata": {
        "id": "0WjyN3o2s1PC"
      },
      "source": [
        "**6)** Faça um Programa que pergunte quanto você ganha por hora e o número de horas trabalhadas no mês. Calcule e mostre o total do seu salário no referido mês, sabendo-se que são descontados 11% para o Imposto de Renda, 8% para o INSS e 5% para o sindicato, faça um programa que nos dê:\n",
        "- Salário bruto.\n",
        "- Quanto pagou ao INSS.\n",
        "- Quanto pagou ao sindicato.\n",
        "- O salário líquido."
      ]
    },
    {
      "cell_type": "code",
      "execution_count": 3,
      "metadata": {
        "colab": {
          "base_uri": "https://localhost:8080/"
        },
        "id": "jUAsGTQ-s1PC",
        "outputId": "85396914-4567-42ef-87f3-d54d55c25aae"
      },
      "outputs": [
        {
          "name": "stdout",
          "output_type": "stream",
          "text": [
            "Seu salário bruto é: 1000.0\n",
            "O valor pago em IR: 110.0\n",
            "O valor pago em INSS: 80.0\n",
            "O valor pago ao sindicato: 50.0\n",
            "Portanto, seu salário líquido será: 760.0\n"
          ]
        }
      ],
      "source": [
        "ganho_hora = float(input('Quanto você ganha por hora? '))\n",
        "horas_trabalhadas = float(input('Quantas horas você trabalhou neste mês? '))\n",
        "\n",
        "salario_bruto = ganho_hora * horas_trabalhadas\n",
        "imposto_renda = 0.11 * salario_bruto\n",
        "inss = 0.08 * salario_bruto\n",
        "sindicato = 0.05 * salario_bruto\n",
        "salario_liquido = salario_bruto - imposto_renda - inss - sindicato\n",
        "\n",
        "print('Seu salário bruto é:', salario_bruto)\n",
        "print('O valor pago em IR:', imposto_renda)\n",
        "print('O valor pago em INSS:', inss)\n",
        "print('O valor pago ao sindicato:', sindicato)\n",
        "print('Portanto, seu salário líquido será:', salario_liquido)\n",
        "\n"
      ]
    },
    {
      "cell_type": "markdown",
      "metadata": {
        "id": "AaZKq2Wfs1PC"
      },
      "source": [
        "**7)** João Papo-de-Pescador, homem de bem, comprou um microcomputador para controlar o rendimento diário de seu trabalho. Toda vez que ele traz um peso de peixes maior que o estabelecido pelo regulamento de pesca do estado de São Paulo (50 quilos) deve pagar uma multa de R$ 4,00 por quilo excedente. João precisa que você faça um programa que leia a variável peso (peso de peixes) e calcule o excesso. Gravar na variável excesso a quantidade de quilos além do limite e na variável multa o valor da multa que João deverá pagar. Imprima os dados do programa com as mensagens adequadas."
      ]
    },
    {
      "cell_type": "code",
      "execution_count": 7,
      "metadata": {
        "colab": {
          "base_uri": "https://localhost:8080/"
        },
        "id": "lvQpZRQKs1PC",
        "outputId": "4f28e792-48cf-4498-b603-65061c9e7607"
      },
      "outputs": [
        {
          "name": "stdout",
          "output_type": "stream",
          "text": [
            "Você pescou 51.0 kgs de peixe\n",
            "O excendente nesta pesca foi de 1.0 kgs de peixe\n",
            "Portanto, deverá pagar uma multa de R$ 4.0\n"
          ]
        }
      ],
      "source": [
        "quilos_total = float(input(\"Digite a quantidade de quilos de peixe: \"))\n",
        "\n",
        "quilos_excendente = quilos_total - 50\n",
        "\n",
        "multa = quilos_excendente * 4\n",
        "\n",
        "print(\"Você pescou\", quilos_total, 'kgs de peixe')\n",
        "if multa > 0:\n",
        "    print(\"O excendente nesta pesca foi de\", quilos_excendente, 'kgs de peixe')\n",
        "    print(\"Portanto, deverá pagar uma multa de R$\", multa) \n",
        "else: \n",
        "    print('Este valor entá dentro do permitido, e não será aplicada multa.')"
      ]
    },
    {
      "cell_type": "markdown",
      "metadata": {
        "id": "70DJrG3ds1PD"
      },
      "source": [
        "**8)** Faça um Programa para uma loja de tintas. O programa deverá pedir o tamanho em metros quadrados da área a ser pintada. Considere que a cobertura da tinta é de 1 litro para cada 6 metros quadrados e que a tinta é vendida em latas de 18 litros, que custam 80,00 reais ou em galões de 3,6 litros, que custam 25,00 reais.<br>\n",
        "&emsp; Informe ao usuário as quantidades de tinta a serem compradas e os respectivos preços em 3 situações:\n",
        "- Comprar apenas latas de 18 litros;\n",
        "- Comprar apenas galões de 3,6 litros;\n",
        "- Misturar latas e galões, de forma que o desperdício de tinta seja menor. Podem considerar latas pela metade (valores decimais para quantidade de latas)"
      ]
    },
    {
      "cell_type": "code",
      "execution_count": 25,
      "metadata": {
        "colab": {
          "base_uri": "https://localhost:8080/"
        },
        "id": "JvBYJ4Fks1PD",
        "outputId": "23f5fc42-8345-4411-9921-fe6a1d89c21f"
      },
      "outputs": [
        {
          "name": "stdout",
          "output_type": "stream",
          "text": [
            "21.599999999999998\n",
            "Serão utilizadas 2.0 latas, no valor de R$ 160.0 havendo sobra de 14.400000000000002 L na ultima lata.\n",
            "Serão utilizados 6.0 galões, no valor de R$ 150.0 havendo sobra de 2.6645352591003757e-15 L no último galão.\n",
            "Serão utilizados 1.0 latas, 0.0 meia-latas, e 1.0 galões, no valor de R$ 105.0 havendo desperdício no último galão de 2.220446049250313e-15 L.\n"
          ]
        }
      ],
      "source": [
        "area_m2 = float(input(\"Qual a área a ser pintada? \"))\n",
        "litros_tinta = area_m2 / 6.0\n",
        "\n",
        "print(litros_tinta)\n",
        "\n",
        "#caso 1 - apenas latas de 18L inteiras, independente de desperdício\n",
        "sobra = 0\n",
        "total_latas = litros_tinta // 18\n",
        "\n",
        "if litros_tinta % 18 != 0:\n",
        "  total_latas = total_latas + 1\n",
        "  sobra = 18 - (litros_tinta % 18)\n",
        "\n",
        "custo = total_latas * 80\n",
        "print('Serão utilizadas', total_latas, 'latas, no valor de R$', custo, 'havendo sobra de', sobra, 'L na ultima lata.')\n",
        "\n",
        "\n",
        "#caso 2 - apenas galões 3,6L inteiros, independente de desperdício\n",
        "sobra = 0\n",
        "total_galoes = litros_tinta // 3.6\n",
        "\n",
        "if litros_tinta % 3.6 != 0:\n",
        "  total_galoes = total_galoes + 1\n",
        "  sobra = 3.6 - (litros_tinta % 3.6)\n",
        "\n",
        "custo = total_galoes * 25\n",
        "print('Serão utilizados', total_galoes, 'galões, no valor de R$', custo, 'havendo sobra de', sobra, 'L no último galão.')\n",
        "\n",
        "\n",
        "#caso 3 - misturar latas e galões, sendo possível ter meias latas\n",
        "desperdicio = 0\n",
        "latas_inteiras = litros_tinta // 18\n",
        "resto = litros_tinta % 18\n",
        "latas_meias = resto // 9\n",
        "resto2 = litros_tinta % 9\n",
        "galoes = resto2 // 3.6\n",
        "\n",
        "if resto2 % 3.6 > 0:\n",
        "  galoes = galoes+1\n",
        "  desperdicio = 3.6 - (resto2 % 3.6)\n",
        "\n",
        "custo_total = latas_inteiras * 80 + latas_meias * 40 + galoes * 25\n",
        "print('Serão utilizados', latas_inteiras, 'latas,', latas_meias, 'meia-latas, e', galoes, 'galões, no valor de R$', custo_total, 'havendo desperdício no último galão de', desperdicio, 'L.')"
      ]
    }
  ],
  "metadata": {
    "colab": {
      "collapsed_sections": [],
      "name": "Aula 1 - Introducao.ipynb",
      "provenance": []
    },
    "kernelspec": {
      "display_name": "Python 3",
      "language": "python",
      "name": "python3"
    },
    "language_info": {
      "codemirror_mode": {
        "name": "ipython",
        "version": 3
      },
      "file_extension": ".py",
      "mimetype": "text/x-python",
      "name": "python",
      "nbconvert_exporter": "python",
      "pygments_lexer": "ipython3",
      "version": "3.8.9"
    }
  },
  "nbformat": 4,
  "nbformat_minor": 0
}
