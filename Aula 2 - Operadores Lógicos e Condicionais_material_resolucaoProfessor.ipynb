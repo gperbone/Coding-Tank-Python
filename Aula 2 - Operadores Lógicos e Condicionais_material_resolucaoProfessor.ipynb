{
 "cells": [
  {
   "cell_type": "markdown",
   "metadata": {
    "id": "4LuGauI92F78"
   },
   "source": [
    "## Exercícios"
   ]
  },
  {
   "cell_type": "markdown",
   "metadata": {
    "id": "nVqeoYTv2F79"
   },
   "source": [
    "**1)** Um posto está vendendo combustíveis com a seguinte tabela de descontos: <br>\n",
    "\n",
    "Álcool:<br>\n",
    " - até 20 litros, desconto de 3% por litro\n",
    " - acima de 20 litros, desconto de 5% por litro <br>\n",
    " \n",
    "Gasolina:<br>\n",
    " - até 20 litros, desconto de 4% por litro\n",
    " - acima de 20 litros, desconto de 6% por litro. \n",
    " \n",
    "Escreva um algoritmo que leia o número de litros vendidos, o tipo de combustível (codificado da seguinte forma: A-álcool, G-gasolina), calcule e imprima o valor a ser pago pelo cliente sabendo-se que o preço do litro da gasolina é 2,50 reais o preço do litro do álcool é 1,90 reais."
   ]
  },
  {
   "cell_type": "code",
   "execution_count": 9,
   "metadata": {},
   "outputs": [
    {
     "name": "stdout",
     "output_type": "stream",
     "text": [
      "Digite o combustível: A - Álcool ou G - Gasolina: a\n",
      "Digite quantos litros você quer abastecer: 100\n",
      "Você abasteceu 100.0 litros de álcool. Total: R$ 180.50\n"
     ]
    }
   ],
   "source": [
    "limite_alcool = 20\n",
    "desconto_1_alcool = 0.03\n",
    "desconto_2_alcool = 0.05\n",
    "preco_alcool = 1.9\n",
    "\n",
    "limite_gasolina = 20\n",
    "desconto_1_gasolina = 0.04\n",
    "desconto_2_gasolina = 0.06\n",
    "preco_gasolina = 2.5\n",
    "\n",
    "combustivel = input('Digite o combustível: A - Álcool ou G - Gasolina: ')\n",
    "litros = float(input('Digite quantos litros você quer abastecer: '))\n",
    "\n",
    "\n",
    "if combustivel.lower() != 'g' and combustivel.lower() != 'a':\n",
    "    print('Opção de combustível inválida.')\n",
    "\n",
    "elif combustivel == 'A' or combustivel == 'a':\n",
    "    if litros <= limite_alcool:\n",
    "        valor = preco_alcool*litros*(1 - desconto_1_alcool)\n",
    "    else:\n",
    "        valor = preco_alcool*litros*(1 - desconto_2_alcool)\n",
    "        \n",
    "    print(f'Você abasteceu {litros} litros de álcool. Total: R$ {valor:.2f}')\n",
    "        \n",
    "elif combustivel.lower() == 'g':\n",
    "    if litros <= limite_gasolina:\n",
    "        valor = preco_gasolina*litros*(1 - desconto_1_gasolina)\n",
    "    else:\n",
    "        valor = preco_gasolina*litros*(1 - desconto_2_gasolina)\n",
    "        \n",
    "    print(f'Você abasteceu {litros} litros de gasolina. Total: R$ {valor:.2f}')  \n",
    "    "
   ]
  },
  {
   "cell_type": "markdown",
   "metadata": {
    "id": "81iJ8fJl2F79"
   },
   "source": [
    "**2)** Faça um programa que faça 5 perguntas para uma pessoa sobre um crime. As perguntas são:\n",
    "\n",
    "- \"Telefonou para a vítima?\"\n",
    "- \"Esteve no local do crime?\"\n",
    "- \"Mora perto da vítima?\"\n",
    "- \"Devia para a vítima?\"\n",
    "- \"Já trabalhou com a vítima?\"\n",
    "\n",
    "O programa deve no final emitir uma classificação sobre a participação da pessoa no crime. Se a pessoa responder positivamente a 2 questões ela deve ser classificada como \"Suspeita\", entre 3 e 4 como \"Cúmplice\" e 5 como \"Assassino\". Caso contrário, ele será classificado como \"Inocente\"."
   ]
  },
  {
   "cell_type": "code",
   "execution_count": 20,
   "metadata": {},
   "outputs": [
    {
     "name": "stdout",
     "output_type": "stream",
     "text": [
      "22\n"
     ]
    }
   ],
   "source": [
    "valor = 20\n",
    "var_2 = 2\n",
    "\n",
    "# valor = valor * 20\n",
    "\n",
    "valor += var_2\n",
    "\n",
    "print(valor)"
   ]
  },
  {
   "cell_type": "code",
   "execution_count": 23,
   "metadata": {
    "id": "iXEUqTLm2F79"
   },
   "outputs": [
    {
     "name": "stdout",
     "output_type": "stream",
     "text": [
      "Telefonou para a vítima? Responda 1 para Sim e 0 para Não: 1\n",
      "Esteve no local do crime? Responda 1 para Sim e 0 para Não: 1\n",
      "Mora perto da vítima? Responda 1 para Sim e 0 para Não: 1\n",
      "Devia para a vítima? Responda 1 para Sim e 0 para Não: 1\n",
      "Já trabalhou com a vítima? Responda 1 para Sim e 0 para Não: 0\n"
     ]
    }
   ],
   "source": [
    "respostas = 0\n",
    "\n",
    "pergunta_1 = int(input('Telefonou para a vítima? Responda 1 para Sim e 0 para Não: '))\n",
    "         \n",
    "if pergunta_1:\n",
    "#     respostas = respostas + 1\n",
    "    respostas += 1\n",
    "               \n",
    "pergunta_2 = int(input('Esteve no local do crime? Responda 1 para Sim e 0 para Não: '))\n",
    "         \n",
    "if pergunta_2:\n",
    "    respostas += 1\n",
    "\n",
    "pergunta_3 = int(input('Mora perto da vítima? Responda 1 para Sim e 0 para Não: '))\n",
    "         \n",
    "if pergunta_3:\n",
    "    respostas += 1\n",
    "               \n",
    "pergunta_4 = int(input('Devia para a vítima? Responda 1 para Sim e 0 para Não: '))\n",
    "         \n",
    "if pergunta_4:\n",
    "    respostas += 1\n",
    "                       \n",
    "pergunta_5 = int(input('Já trabalhou com a vítima? Responda 1 para Sim e 0 para Não: '))\n",
    "         \n",
    "if pergunta_5:\n",
    "    respostas += 1"
   ]
  },
  {
   "cell_type": "code",
   "execution_count": 24,
   "metadata": {},
   "outputs": [
    {
     "name": "stdout",
     "output_type": "stream",
     "text": [
      "Cúmplice\n"
     ]
    }
   ],
   "source": [
    "if respostas == 5:\n",
    "    print('Assassino')\n",
    "elif respostas >= 3:\n",
    "    print('Cúmplice')\n",
    "elif respostas == 2:\n",
    "    print('Suspeito')\n",
    "else:\n",
    "    print('Inocente')"
   ]
  },
  {
   "cell_type": "markdown",
   "metadata": {
    "id": "oSfTAuAB2F79"
   },
   "source": [
    "**3)** Faça um Programa que leia um número inteiro menor que 1000 e imprima a quantidade de centenas, dezenas e unidades do mesmo. Observando os termos no plural a colocação do \"e\", da vírgula entre outros. Exemplo:\n",
    "\n",
    "326 = 3 centenas, 2 dezenas e 6 unidades <br>\n",
    "12 = 1 dezena e 2 unidades"
   ]
  },
  {
   "cell_type": "code",
   "execution_count": 33,
   "metadata": {
    "id": "0ezjEscZ2F79"
   },
   "outputs": [
    {
     "name": "stdout",
     "output_type": "stream",
     "text": [
      "Digite um inteiro positivo entre 1 e 999: 0\n",
      "\n"
     ]
    }
   ],
   "source": [
    "inteiro = int(input('Digite um inteiro positivo entre 1 e 999: '))\n",
    "# 89\n",
    "\n",
    "centenas = int(inteiro/100)\n",
    "dezenas = int(inteiro/10)%10\n",
    "unidades = inteiro%10\n",
    "\n",
    "txt_c = (f'{centenas} centenas' if centenas > 1 else f'{centenas} centena') * (centenas > 0)\n",
    "txt_d = (f'{dezenas} dezenas' if dezenas > 1 else f'{dezenas} dezena') * (dezenas > 0)\n",
    "txt_u = (f'{unidades} unidades' if unidades > 1 else f'{unidades} unidade') * (unidades > 0)\n",
    "\n",
    "texto_final = ''\n",
    "\n",
    "if txt_c:\n",
    "    texto_final += txt_c\n",
    "    \n",
    "    if (txt_d and not txt_u) or (not txt_d and txt_u):\n",
    "        texto_final += f' e {txt_d}{txt_u}'\n",
    "        \n",
    "    elif txt_d and txt_u:\n",
    "        texto_final += f', {txt_d} e {txt_u}'\n",
    "        \n",
    "else:\n",
    "    if (txt_d and not txt_u) or (not txt_d and txt_u):\n",
    "        texto_final += f'{txt_d}{txt_u}'\n",
    "        \n",
    "    elif txt_d and txt_u:\n",
    "        texto_final += f'{txt_d} e {txt_u}'\n",
    "        \n",
    "print(texto_final)"
   ]
  },
  {
   "cell_type": "markdown",
   "metadata": {
    "id": "CLZ4_Yt82F79"
   },
   "source": [
    "**4)** Faça um programa que calcule as raízes de uma equação do segundo grau, na forma:\n",
    "\n",
    "$ax^{2} + bx + c$ \n",
    "\n",
    "O programa deverá pedir os valores de a, b e c, informando ao usuário nas seguintes situações:\n",
    "Se o usuário informar o valor de A igual a zero, a equação não é do segundo grau e o programa não deve fazer pedir os demais valores, sendo encerrado;\n",
    "Se o delta calculado for negativo, a equação não possui raizes reais. Informe ao usuário e encerre o programa;\n",
    "Se o delta calculado for igual a zero a equação possui apenas uma raiz real; informe-a ao usuário;\n",
    "Se o delta for positivo, a equação possui duas raiz reais; informe-as ao usuário;"
   ]
  },
  {
   "cell_type": "code",
   "execution_count": 38,
   "metadata": {
    "id": "F3KDUuJ92F79"
   },
   "outputs": [
    {
     "name": "stdout",
     "output_type": "stream",
     "text": [
      "Digite o valor de 'a': 1\n",
      "Digite o valor de 'b': 0\n",
      "Digite o valor de 'c': 0\n",
      "A equação possui apenas uma raiz real: x = 0\n"
     ]
    }
   ],
   "source": [
    "a = float(input(\"Digite o valor de 'a': \"))\n",
    "b = float(input(\"Digite o valor de 'b': \"))\n",
    "c = float(input(\"Digite o valor de 'c': \"))\n",
    "\n",
    "# 1, -5, 6\n",
    "# 4, -4, 1\n",
    "# 5, 1, 6\n",
    "          \n",
    "if a == 0:\n",
    "    print('Essa equação não é de segundo grau! Tchau!')\n",
    "          \n",
    "else:\n",
    "    delta = b**2 - 4*a*c\n",
    "    \n",
    "    if delta == 0:\n",
    "        x = 0 if -b/(2*a) == 0 else -b/(2*a) # Tratando o -0    \n",
    "    \n",
    "        print(f'A equação possui apenas uma raiz real: x = {x}')\n",
    "          \n",
    "    elif delta > 0:\n",
    "        x1 = (-b + delta**0.5)/(2*a)\n",
    "        x2 = (-b - delta**0.5)/(2*a)\n",
    "          \n",
    "        print(f'A equação possui duas raízes reais: x1 = {x1} e x2 = {x2}')\n",
    "        \n",
    "    else:\n",
    "        print('A equação não possui raízes reais.')\n",
    "        \n",
    "        delta *= -1\n",
    "        parte_real = round(-b/(2*a), 2)\n",
    "        parte_img = round((delta**0.5)/(2*a), 2)\n",
    "        \n",
    "        x1 = str(parte_real) + ' + ' + str(parte_img) + 'i'\n",
    "        x2 = str(parte_real) + ' - ' + str(parte_img) + 'i'\n",
    "        \n",
    "        print(f'A equação possui duas raízes complexas: x1 = {x1} e x2 = {x2}')"
   ]
  },
  {
   "cell_type": "markdown",
   "metadata": {
    "id": "Vf338eeP2F79"
   },
   "source": [
    "**5)** Faça um Programa que peça os 3 lados de um triângulo. O programa deverá informar se os valores podem ser um triângulo. Indique, caso os lados formem um triângulo, se o mesmo é: equilátero, isósceles ou escaleno.\n",
    "\n",
    "Dicas:\n",
    "- Três lados formam um triângulo quando a soma de quaisquer dois lados for maior que o terceiro;\n",
    "- Triângulo Equilátero: três lados iguais;\n",
    "- Triângulo Isósceles: quaisquer dois lados iguais;\n",
    "- Triângulo Escaleno: três lados diferentes;"
   ]
  },
  {
   "cell_type": "code",
   "execution_count": 43,
   "metadata": {
    "id": "lmyJmzYd2F7-"
   },
   "outputs": [
    {
     "name": "stdout",
     "output_type": "stream",
     "text": [
      "Digite o valor do primeiro lado: 9\n",
      "Digite o valor do segundo lado: 8\n",
      "Digite o valor do tereiro lado: 7\n",
      "O triângulo é escaleno\n"
     ]
    }
   ],
   "source": [
    "a = float(input('Digite o valor do primeiro lado: '))\n",
    "b = float(input('Digite o valor do segundo lado: '))\n",
    "c = float(input('Digite o valor do tereiro lado: '))\n",
    "\n",
    "if (a + b > c) and (a + c > b) and (b + c > a):\n",
    "    if a == b == c:\n",
    "        print('O triângulo é equilátero')\n",
    "    elif a == b or a == c or b == c:\n",
    "        print('O triângulo é isóceles')\n",
    "    else:\n",
    "        print('O triângulo é escaleno')\n",
    "        \n",
    "else:\n",
    "    print('Os valores passados não formam um triângulo')\n",
    "        "
   ]
  }
 ],
 "metadata": {
  "colab": {
   "collapsed_sections": [
    "gx_lCMvm2F77",
    "wVeOCA3q2F77",
    "kOepK-022F78",
    "ZuwKbVhc2F78",
    "4LuGauI92F78"
   ],
   "name": "Aula 2 - Operadores Lógicos e Condicionais.ipynb",
   "provenance": []
  },
  "kernelspec": {
   "display_name": "Python 3",
   "language": "python",
   "name": "python3"
  },
  "language_info": {
   "codemirror_mode": {
    "name": "ipython",
    "version": 3
   },
   "file_extension": ".py",
   "mimetype": "text/x-python",
   "name": "python",
   "nbconvert_exporter": "python",
   "pygments_lexer": "ipython3",
   "version": "3.9.2"
  }
 },
 "nbformat": 4,
 "nbformat_minor": 1
}
