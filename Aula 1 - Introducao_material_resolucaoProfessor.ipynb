{
 "cells": [
  {
   "cell_type": "markdown",
   "metadata": {
    "id": "ksWegZoKs1PA"
   },
   "source": [
    "## 🎯 Exercícios 🎯 <a class=\"anchor\" id=\"cinco\"></a>\n",
    "\n",
    "**1)** Faça um Programa que mostre a mensagem \"Alo mundo\" na tela."
   ]
  },
  {
   "cell_type": "code",
   "execution_count": 1,
   "metadata": {
    "id": "Ajg4JjQSs1PA"
   },
   "outputs": [
    {
     "name": "stdout",
     "output_type": "stream",
     "text": [
      "Alô mundo!\n"
     ]
    }
   ],
   "source": [
    "print('Alô mundo!')"
   ]
  },
  {
   "cell_type": "markdown",
   "metadata": {
    "id": "UbK0yPCys1PB"
   },
   "source": [
    "**2)** Faça um Programa que peça as 4 notas bimestrais e mostre a média."
   ]
  },
  {
   "cell_type": "code",
   "execution_count": 2,
   "metadata": {
    "id": "6Q6tE9z9s1PB"
   },
   "outputs": [
    {
     "name": "stdout",
     "output_type": "stream",
     "text": [
      "Digite o valor da 1ª nota: 8\n",
      "Digite o valor da 2ª nota: 7\n",
      "Digite o valor da 3ª nota: 9\n",
      "Digite o valor da 4ª nota: 10\n",
      "Sua média é: 8.5\n"
     ]
    }
   ],
   "source": [
    "nota_1 = float(input('Digite o valor da 1ª nota: '))\n",
    "nota_2 = float(input('Digite o valor da 2ª nota: '))\n",
    "nota_3 = float(input('Digite o valor da 3ª nota: '))\n",
    "nota_4 = float(input('Digite o valor da 4ª nota: '))\n",
    "\n",
    "media = (nota_1 + nota_2 + nota_3 + nota_4)/4\n",
    "\n",
    "print('Sua média é:', round(media, 2))"
   ]
  },
  {
   "cell_type": "markdown",
   "metadata": {
    "id": "ED1eOWnfs1PB"
   },
   "source": [
    "**3)** Faça um Programa que pergunte quanto você ganha por hora e o número de horas trabalhadas no mês. Calcule e mostre o total do seu salário no referido mês."
   ]
  },
  {
   "cell_type": "code",
   "execution_count": 3,
   "metadata": {
    "id": "elBT1_j-s1PB"
   },
   "outputs": [
    {
     "name": "stdout",
     "output_type": "stream",
     "text": [
      "Digite seu salário por hora: 10\n",
      "Digite quantas horas você trabalhou este mês: 50\n",
      "Seu salário este mês é R$ 500.0\n"
     ]
    }
   ],
   "source": [
    "salario_hora = float(input('Digite seu salário por hora: '))\n",
    "horas_mes = float(input('Digite quantas horas você trabalhou este mês: '))\n",
    "\n",
    "salario_mes = salario_hora*horas_mes\n",
    "print('Seu salário este mês é R$', round(salario_mes, 2))"
   ]
  },
  {
   "cell_type": "markdown",
   "metadata": {
    "id": "d4cKZGA5s1PC"
   },
   "source": [
    "**4)** Faça um Programa que peça a temperatura em graus Fahrenheit, transforme e mostre a temperatura em graus Celsius.<br>\n",
    "\n",
    "$$ C = \\frac{5 * (F-32)}{9} $$"
   ]
  },
  {
   "cell_type": "code",
   "execution_count": 7,
   "metadata": {
    "id": "_xL0P4KFs1PC"
   },
   "outputs": [
    {
     "name": "stdout",
     "output_type": "stream",
     "text": [
      "Digite a temperatura em Fahrenheit: 32\n",
      "A temperatura equivalente em celsius é: 0.0 °\n",
      "A temperatura equivalente em celsius é: 0.00°\n",
      "A temperatura equivalente em celsius de 32.0°F é: 0.0°\n"
     ]
    }
   ],
   "source": [
    "fahrenheit = float(input('Digite a temperatura em Fahrenheit: '))\n",
    "\n",
    "celsius = (5 * (fahrenheit - 32))/9\n",
    "\n",
    "print('A temperatura equivalente em celsius é:', celsius, '°')\n",
    "print(f'A temperatura equivalente em celsius é: {celsius:.2f}°')\n",
    "print(f'A temperatura equivalente em celsius de {fahrenheit}°F é: {celsius}°')"
   ]
  },
  {
   "cell_type": "markdown",
   "metadata": {
    "id": "_LFfv-s2Ax2o"
   },
   "source": [
    "**5)** Faça um programa que pede um número e imprime a tabuada de desse número."
   ]
  },
  {
   "cell_type": "code",
   "execution_count": 9,
   "metadata": {
    "id": "-p5CTJxiAx2o"
   },
   "outputs": [
    {
     "name": "stdout",
     "output_type": "stream",
     "text": [
      "Digite um número inteiro maior que zero: 5\n",
      "1 x 5 = 5\n",
      "1 x 5 = 10\n",
      "1 x 5 = 15\n",
      "1 x 5 = 20\n",
      "1 x 5 = 25\n"
     ]
    }
   ],
   "source": [
    "numero = int(input('Digite um número inteiro maior que zero: '))\n",
    "\n",
    "print(f'1 x {numero} = {1*numero}')\n",
    "print(f'2 x {numero} = {2*numero}')\n",
    "print(f'3 x {numero} = {3*numero}')\n",
    "print(f'4 x {numero} = {4*numero}')\n",
    "print(f'5 x {numero} = {5*numero}')"
   ]
  },
  {
   "cell_type": "markdown",
   "metadata": {
    "id": "0WjyN3o2s1PC"
   },
   "source": [
    "**6)** Faça um Programa que pergunte quanto você ganha por hora e o número de horas trabalhadas no mês. Calcule e mostre o total do seu salário no referido mês, sabendo-se que são descontados 11% para o Imposto de Renda, 8% para o INSS e 5% para o sindicato, faça um programa que nos dê:\n",
    "- Salário bruto.\n",
    "- Quanto pagou ao INSS.\n",
    "- Quanto pagou ao sindicato.\n",
    "- O salário líquido."
   ]
  },
  {
   "cell_type": "code",
   "execution_count": 11,
   "metadata": {
    "id": "jUAsGTQ-s1PC"
   },
   "outputs": [
    {
     "name": "stdout",
     "output_type": "stream",
     "text": [
      "Digite seu salário por hora: 50\n",
      "Digite quantas horas você trabalhou este mês: 10\n",
      "Salário bruto: 500.0\n",
      "Valor pago de IR: 55.0\n",
      "Valor pago ao INSS: 40.0\n",
      "Valor pago ao sindicato: 25.0\n",
      "Salário líquido: 380.0\n"
     ]
    }
   ],
   "source": [
    "salario_hora = float(input('Digite seu salário por hora: '))\n",
    "horas_mes = float(input('Digite quantas horas você trabalhou este mês: '))\n",
    "\n",
    "salario_bruto = salario_hora*horas_mes\n",
    "\n",
    "pct_IR = 0.11\n",
    "pct_INSS = 0.08\n",
    "pct_sindicato = 0.05\n",
    "\n",
    "valor_IR = salario_bruto*pct_IR\n",
    "valor_INSS = salario_bruto*pct_INSS\n",
    "valor_sindicato = salario_bruto*pct_sindicato\n",
    "\n",
    "salario_liquido = salario_bruto - valor_IR - valor_INSS - valor_sindicato\n",
    "\n",
    "print('Salário bruto:', salario_bruto)\n",
    "print('Valor pago de IR:', valor_IR)\n",
    "print('Valor pago ao INSS:', valor_INSS)\n",
    "print('Valor pago ao sindicato:', valor_sindicato)\n",
    "print('Salário líquido:', salario_liquido)\n"
   ]
  },
  {
   "cell_type": "markdown",
   "metadata": {
    "id": "AaZKq2Wfs1PC"
   },
   "source": [
    "**7)** João Papo-de-Pescador, homem de bem, comprou um microcomputador para controlar o rendimento diário de seu trabalho. Toda vez que ele traz um peso de peixes maior que o estabelecido pelo regulamento de pesca do estado de São Paulo (50 quilos) deve pagar uma multa de R$ 4,00 por quilo excedente. João precisa que você faça um programa que leia a variável peso (peso de peixes) e calcule o excesso. Gravar na variável excesso a quantidade de quilos além do limite e na variável multa o valor da multa que João deverá pagar. Imprima os dados do programa com as mensagens adequadas."
   ]
  },
  {
   "cell_type": "code",
   "execution_count": 18,
   "metadata": {
    "id": "lvQpZRQKs1PC"
   },
   "outputs": [
    {
     "name": "stdout",
     "output_type": "stream",
     "text": [
      "João trouxe 99 kg de peixes\n",
      "João trouxe 49 kg de peixes a mais do que podia\n",
      "A multa foi de R$ 196\n"
     ]
    }
   ],
   "source": [
    "peso = 99\n",
    "limite = 50\n",
    "\n",
    "diferenca = int(peso/limite)*(peso%limite)\n",
    "\n",
    "multa = diferenca * 4\n",
    "\n",
    "print('João trouxe', peso, 'kg de peixes')\n",
    "print('João trouxe', diferenca, 'kg de peixes a mais do que podia')\n",
    "print('A multa foi de R$', multa)\n"
   ]
  },
  {
   "cell_type": "code",
   "execution_count": 29,
   "metadata": {},
   "outputs": [
    {
     "name": "stdout",
     "output_type": "stream",
     "text": [
      "João trouxe 50 kg de peixes\n",
      "João trouxe 0 kg de peixes a mais do que podia\n",
      "A multa foi de R$ 0\n"
     ]
    }
   ],
   "source": [
    "peso = 50\n",
    "limite = 50\n",
    "\n",
    "diferenca = (peso - limite)*(peso > limite)\n",
    "\n",
    "multa = diferenca * 4\n",
    "\n",
    "print('João trouxe', peso, 'kg de peixes')\n",
    "print('João trouxe', diferenca, 'kg de peixes a mais do que podia')\n",
    "print('A multa foi de R$', multa)\n"
   ]
  },
  {
   "cell_type": "code",
   "execution_count": 31,
   "metadata": {},
   "outputs": [
    {
     "name": "stdout",
     "output_type": "stream",
     "text": [
      "João trouxe 49 kg de peixes\n",
      "João trouxe 0 kg de peixes a mais do que podia\n",
      "A multa foi de R$ 0\n"
     ]
    }
   ],
   "source": [
    "peso = 49\n",
    "limite = 50\n",
    "\n",
    "diferenca = max(peso - limite, 0)\n",
    "\n",
    "multa = diferenca * 4\n",
    "\n",
    "print('João trouxe', peso, 'kg de peixes')\n",
    "print('João trouxe', diferenca, 'kg de peixes a mais do que podia')\n",
    "print('A multa foi de R$', multa)"
   ]
  },
  {
   "cell_type": "code",
   "execution_count": 33,
   "metadata": {},
   "outputs": [
    {
     "name": "stdout",
     "output_type": "stream",
     "text": [
      "João trouxe 99 kg de peixes\n",
      "João trouxe 49 kg de peixes a mais do que podia\n",
      "A multa foi de R$ 196\n"
     ]
    }
   ],
   "source": [
    "peso = 99\n",
    "limite = 50\n",
    "\n",
    "n = limite + 1\n",
    "\n",
    "aux = int((int(limite/peso) - n)/(-n))\n",
    "\n",
    "diferenca = aux * (peso - limite)\n",
    "\n",
    "multa = diferenca*4\n",
    "\n",
    "print('João trouxe', peso, 'kg de peixes')\n",
    "print('João trouxe', diferenca, 'kg de peixes a mais do que podia')\n",
    "print('A multa foi de R$', multa)"
   ]
  },
  {
   "cell_type": "markdown",
   "metadata": {
    "id": "70DJrG3ds1PD"
   },
   "source": [
    "**8)** Faça um Programa para uma loja de tintas. O programa deverá pedir o tamanho em metros quadrados da área a ser pintada. Considere que a cobertura da tinta é de 1 litro para cada 6 metros quadrados e que a tinta é vendida em latas de 18 litros, que custam 80,00 reais ou em galões de 3,6 litros, que custam 25,00 reais.<br>\n",
    "&emsp; Informe ao usuário as quantidades de tinta a serem compradas e os respectivos preços em 3 situações:\n",
    "- Comprar apenas latas de 18 litros;\n",
    "- Comprar apenas galões de 3,6 litros;\n",
    "- Misturar latas e galões, de forma que o desperdício de tinta seja menor. Podem considerar latas pela metade (valores decimais para quantidade de latas)"
   ]
  },
  {
   "cell_type": "code",
   "execution_count": 43,
   "metadata": {
    "id": "JvBYJ4Fks1PD"
   },
   "outputs": [
    {
     "name": "stdout",
     "output_type": "stream",
     "text": [
      "- Usando apenas latas: 2 lata(s) - R$ 160\n",
      "- Usando apenas galões: 6 galão(ões) - R$ 150\n",
      "- Usando os dois: 1 lata(s) e 1 galão(ões) - R$ 105\n"
     ]
    }
   ],
   "source": [
    "# tamanho_m2 = float(input('Digite a área a ser pintada (em m²): '))\n",
    "tamanho_m2 = 109\n",
    "litros = tamanho_m2 / 6\n",
    "\n",
    "preco_latas = 80\n",
    "preco_galoes = 25\n",
    "\n",
    "# Só latas\n",
    "total_latas = int(litros/18) + (litros%18 > 0)\n",
    "preco_latas_ = total_latas * preco_latas\n",
    "\n",
    "# Só galões\n",
    "total_galoes = int(litros/3.6) + (litros%3.6 > 0)\n",
    "preco_galoes_ = total_galoes * preco_galoes\n",
    "\n",
    "# Misturando\n",
    "total_latas_m = int(litros/18)\n",
    "restante = litros - (total_latas_m*18)\n",
    "total_galoes_m = int(restante/3.6) + (restante%3.6 > 0)\n",
    "\n",
    "preco_mistura = (total_latas_m * preco_latas) + (total_galoes_m * preco_galoes)\n",
    "\n",
    "print('- Usando apenas latas:', round(total_latas, 2), 'lata(s) - R$', round(preco_latas_, 2))\n",
    "print('- Usando apenas galões:', round(total_galoes, 2), 'galão(ões) - R$', round(preco_galoes_, 2))\n",
    "print('- Usando os dois:', round(total_latas_m, 2), 'lata(s) e', round(total_galoes_m, 2), 'galão(ões) - R$', round(preco_mistura, 2))"
   ]
  },
  {
   "cell_type": "code",
   "execution_count": 38,
   "metadata": {},
   "outputs": [
    {
     "data": {
      "text/plain": [
       "19"
      ]
     },
     "execution_count": 38,
     "metadata": {},
     "output_type": "execute_result"
    }
   ],
   "source": [
    "# int(-(-18.9 // 1))"
   ]
  },
  {
   "cell_type": "code",
   "execution_count": null,
   "metadata": {},
   "outputs": [],
   "source": []
  }
 ],
 "metadata": {
  "colab": {
   "collapsed_sections": [],
   "name": "Aula 1 - Introducao.ipynb",
   "provenance": []
  },
  "kernelspec": {
   "display_name": "Python 3",
   "language": "python",
   "name": "python3"
  },
  "language_info": {
   "codemirror_mode": {
    "name": "ipython",
    "version": 3
   },
   "file_extension": ".py",
   "mimetype": "text/x-python",
   "name": "python",
   "nbconvert_exporter": "python",
   "pygments_lexer": "ipython3",
   "version": "3.9.2"
  }
 },
 "nbformat": 4,
 "nbformat_minor": 1
}
