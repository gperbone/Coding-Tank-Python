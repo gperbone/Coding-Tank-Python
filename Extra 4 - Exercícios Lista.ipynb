{
 "cells": [
  {
   "cell_type": "markdown",
   "metadata": {},
   "source": [
    "#LC | Listas"
   ]
  },
  {
   "cell_type": "markdown",
   "metadata": {},
   "source": [
    "1 Crie uma lista qualquer e faça um programa que imprima cada elemento da lista usando o for."
   ]
  },
  {
   "cell_type": "code",
   "execution_count": 1,
   "metadata": {},
   "outputs": [
    {
     "name": "stdout",
     "output_type": "stream",
     "text": [
      "1\n",
      "2\n",
      "3\n",
      "4\n",
      "5\n",
      "6\n"
     ]
    }
   ],
   "source": [
    "lista = [1, 2, 3 , 4 , 5 , 6]\n",
    "\n",
    "for elemento in lista:\n",
    "    print(elemento)"
   ]
  },
  {
   "cell_type": "markdown",
   "metadata": {},
   "source": [
    "Faça um programa que peça para o usuário digitar um número n e imprima uma lista com todos os números de 0 a n-1.\n",
    "\n",
    "Exemplo: se o usuário digitar 5, o programa deve imprimir [0, 1, 2, 3, 4]"
   ]
  },
  {
   "cell_type": "code",
   "execution_count": 6,
   "metadata": {},
   "outputs": [
    {
     "name": "stdout",
     "output_type": "stream",
     "text": [
      "[0, 1, 2, 3, 4]\n"
     ]
    }
   ],
   "source": [
    "num = int(input(\"Digite um número inteiro: \"))\n",
    "lista = []\n",
    "\n",
    "for i in range(0,num):\n",
    "    lista.append(i)\n",
    "\n",
    "print(lista)"
   ]
  },
  {
   "cell_type": "markdown",
   "metadata": {},
   "source": [
    "3 Faça um programa que olhe todos os itens de uma lista e diga quantos deles são pares."
   ]
  },
  {
   "cell_type": "code",
   "execution_count": 8,
   "metadata": {},
   "outputs": [
    {
     "name": "stdout",
     "output_type": "stream",
     "text": [
      "3\n"
     ]
    }
   ],
   "source": [
    "lista = [0, 1, 2, 3, 4]\n",
    "is_even = []\n",
    "\n",
    "for i in range(0,len(lista)):\n",
    "    if i % 2 == 0 :\n",
    "        is_even.append(i)\n",
    "\n",
    "print(len(is_even))"
   ]
  },
  {
   "cell_type": "markdown",
   "metadata": {},
   "source": [
    "Faça um programa que imprima o maior número de uma lista, sem usar o método max()."
   ]
  },
  {
   "cell_type": "code",
   "execution_count": 9,
   "metadata": {},
   "outputs": [
    {
     "name": "stdout",
     "output_type": "stream",
     "text": [
      "4\n"
     ]
    }
   ],
   "source": [
    "lista = [0, 1, 2, 3, 4, 12, 46, 98]\n",
    "max = lista[0]\n",
    "\n",
    "for i in lista:\n",
    "    if i > max :\n",
    "        max = i\n",
    "\n",
    "print(max)"
   ]
  },
  {
   "cell_type": "markdown",
   "metadata": {},
   "source": [
    "5 Agora usando o método max() faça um programa que imprima os três maiores números de uma lista.\n",
    "\n",
    "Dica: Use o método próprio de listas .remove()."
   ]
  },
  {
   "cell_type": "code",
   "execution_count": 23,
   "metadata": {},
   "outputs": [
    {
     "name": "stdout",
     "output_type": "stream",
     "text": [
      "[443, 20, 9]\n"
     ]
    }
   ],
   "source": [
    "lista = [0, 1, 2, 3, 4, 8,3,9,20,5,443]\n",
    "\n",
    "three_max = sorted(lista, reverse=True)[0:3]\n",
    "\n",
    "print(three_max)"
   ]
  },
  {
   "cell_type": "markdown",
   "metadata": {},
   "source": [
    "6 Faça um programa que, dadas duas listas de mesmo tamanho, crie uma nova lista com cada elemento igual a soma dos elementos da lista 1 com os da lista 2, na mesma posição.\n",
    "\n",
    "Exemplo: dadas lista1 = [1, 4, 5] e lista2 = [2, 2, 3], então lista3 = [1+2, 4+2, 5+3] = [3, 6, 8]"
   ]
  },
  {
   "cell_type": "code",
   "execution_count": 24,
   "metadata": {},
   "outputs": [
    {
     "name": "stdout",
     "output_type": "stream",
     "text": [
      "[3, 6, 8]\n"
     ]
    }
   ],
   "source": [
    "lista1 = [1, 4, 5]\n",
    "lista2 = [2, 2, 3]\n",
    "lista3 = []\n",
    "\n",
    "for i in range(0,len(lista1)):\n",
    "    lista3.append(lista1[i] + lista2[i])\n",
    "\n",
    "print(lista3)"
   ]
  },
  {
   "cell_type": "markdown",
   "metadata": {},
   "source": [
    "7 Faça um programa que dadas duas listas de mesmo tamanho, imprima o produto escalar entre elas.\n",
    "\n",
    "OBS: produto escalar é a soma do resultado da multiplicação entre o número na posição i da lista1 pelo número na posição i da lista2, com i variando de 0 ao tamanho da lista."
   ]
  },
  {
   "cell_type": "code",
   "execution_count": 26,
   "metadata": {},
   "outputs": [
    {
     "name": "stdout",
     "output_type": "stream",
     "text": [
      "25\n"
     ]
    }
   ],
   "source": [
    "lista1 = [1, 4, 5]\n",
    "lista2 = [2, 2, 3]\n",
    "produto = 0\n",
    "\n",
    "for i in range(0,len(lista1)):\n",
    "   produto += lista1[i]*lista2[i]\n",
    "\n",
    "print(produto)"
   ]
  },
  {
   "cell_type": "markdown",
   "metadata": {},
   "source": [
    "8 Faça um programa que pede para o usuário digitar 5 números e, ao final, imprime uma lista com os 5 números digitados pelo usuário (sem converter os números para int ou float).\n",
    "\n",
    "Exemplo: Se o usuário digitar 1, 5, 2, 3, 6, o programa deve imprimir a lista ['1','5','2','3','6']"
   ]
  },
  {
   "cell_type": "code",
   "execution_count": 29,
   "metadata": {},
   "outputs": [
    {
     "name": "stdout",
     "output_type": "stream",
     "text": [
      "['1', '2', '3', '4', '5']\n"
     ]
    }
   ],
   "source": [
    "lista = []\n",
    "for i in range(0,5):\n",
    "    lista.append(input(\"Digite um número: \"))\n",
    "\n",
    "print(lista)"
   ]
  },
  {
   "cell_type": "markdown",
   "metadata": {},
   "source": [
    "9 Pegue a lista gerada no exercício anterior e transforme cada um dos itens dessa lista em um float.\n",
    "\n",
    "OBS: Não é para alterar o programa anterior, mas sim a lista gerada por ele."
   ]
  },
  {
   "cell_type": "code",
   "execution_count": 31,
   "metadata": {},
   "outputs": [
    {
     "name": "stdout",
     "output_type": "stream",
     "text": [
      "[1.0, 2.0, 3.0, 4.0, 5.0]\n"
     ]
    }
   ],
   "source": [
    "lista = []\n",
    "for i in range(0,5):\n",
    "    lista.append(input(\"Digite um número: \"))\n",
    "\n",
    "for i in range(0, len(lista)):\n",
    "    lista[i] = float(lista[i])\n",
    "\n",
    "print(lista)\n"
   ]
  },
  {
   "cell_type": "markdown",
   "metadata": {},
   "source": [
    "10 Faça um Programa que peça as 4 notas bimestrais e mostre a média aritmética delas, usando listas."
   ]
  },
  {
   "cell_type": "code",
   "execution_count": 32,
   "metadata": {},
   "outputs": [
    {
     "name": "stdout",
     "output_type": "stream",
     "text": [
      "7.5\n"
     ]
    }
   ],
   "source": [
    "num_notas = int(input(\"Digite o número de notas: \"))\n",
    "lista_de_notas = []\n",
    "\n",
    "for i in range(0, num_notas):\n",
    "    lista_de_notas.append(float(input(f'Insira a nota do {i+1}o bimestre: ')))\n",
    "\n",
    "\n",
    "media = sum(lista_de_notas)/len(lista_de_notas)\n",
    "print(media)"
   ]
  },
  {
   "cell_type": "markdown",
   "metadata": {},
   "source": [
    "11 Sorteie uma lista de 10 números e imprima:\n",
    "\n",
    "a. uma lista com os 4 primeiros números;\n",
    "\n",
    "b. uma lista com os 5 últimos números;\n",
    "\n",
    "c. uma lista contendo apenas os elementos das posições pares;\n",
    "\n",
    "d. uma lista contendo apenas os elementos das posições ímpares;\n",
    "\n",
    "e. a lista inversa da lista sorteada (isto é, uma lista que começa com o último elemento da lista sorteada e termina com o primeiro);\n",
    "\n",
    "f. uma lista inversa dos 5 primeiros números;\n",
    "\n",
    "g. uma lista inversa dos 5 últimos números."
   ]
  },
  {
   "cell_type": "code",
   "execution_count": 69,
   "metadata": {},
   "outputs": [
    {
     "name": "stdout",
     "output_type": "stream",
     "text": [
      "[5, 53, 68, 88, 41, 39, 21, 79, 83, 87]\n",
      "a) 4 primeiros números: [5, 53, 68, 88]\n",
      "b) 5 últimos números: [39, 21, 79, 83, 87]\n",
      "c) elementos nas posições pares: [5, 68, 41, 21, 83]\n",
      "d) elementos nas posições impares: [53, 88, 39, 79, 87]\n",
      "e) lista inversa: [87, 83, 79, 21, 39, 41, 88, 68, 53, 5]\n",
      "f) lista inversa dos 5 primeiros: [41, 88, 68, 53, 5]\n",
      "g) lista inversa dos 5 últimos: [87, 83, 79, 21, 39]\n"
     ]
    }
   ],
   "source": [
    "lista = random.sample(range(0, 100), 10)\n",
    "print(lista)\n",
    "\n",
    "print(f'a) 4 primeiros números: {lista[:4]}')\n",
    "print(f'b) 5 últimos números: {lista[-5:]}')\n",
    "print(f'c) elementos nas posições pares: {lista[0:len(lista):2]}')\n",
    "print(f'd) elementos nas posições impares: {lista[1:len(lista):2]}')\n",
    "print(f'e) lista inversa: {lista[::-1]}')\n",
    "print(f'f) lista inversa dos 5 primeiros: {lista[4::-1]}')\n",
    "print(f'g) lista inversa dos 5 últimos: {lista[:-6:-1]}')"
   ]
  },
  {
   "cell_type": "markdown",
   "metadata": {},
   "source": [
    "12 Faça um programa que sorteia 10 números entre 0 e 100 e conte quantos números sorteados são maiores que 50."
   ]
  },
  {
   "cell_type": "code",
   "execution_count": 70,
   "metadata": {},
   "outputs": [
    {
     "name": "stdout",
     "output_type": "stream",
     "text": [
      "[66, 2, 33, 67, 63, 43, 51, 0, 27, 16]\n",
      "4\n"
     ]
    }
   ],
   "source": [
    "lista = random.sample(range(0, 100), 10)\n",
    "print(lista)\n",
    "contador = 0\n",
    "\n",
    "for i in lista:\n",
    "    if i > 50: \n",
    "        contador += 1\n",
    "\n",
    "print(contador)"
   ]
  },
  {
   "cell_type": "markdown",
   "metadata": {},
   "source": [
    "13 Desafio 1 | Faça um programa que peça para o usuário digitar o nome e a idade de um aluno e o número de provas que esse aluno fez. Depois, o programa deve pedir para o usuário digitar as notas de cada prova do aluno. Ao final o programa deve imprimir uma lista contendo:\n",
    "\n",
    "a. Nome do aluno na posição 0\n",
    "\n",
    "b. Idade do aluno na posição 1\n",
    "\n",
    "c. Uma lista com todas as notas na posição 2\n",
    "\n",
    "d. A média do aluno na posição 3\n",
    "\n",
    "e. True ou False, caso a média seja maior que 5 ou não, na posição 4\n",
    "\n",
    "Dica: Use o que você fez nos exercícios anteriores para criar esse programa."
   ]
  },
  {
   "cell_type": "code",
   "execution_count": 73,
   "metadata": {},
   "outputs": [
    {
     "name": "stdout",
     "output_type": "stream",
     "text": [
      "['Fernando', 23, [10.0, 10.0, 5.0, 5.0], 7.5, True]\n"
     ]
    }
   ],
   "source": [
    "lista = []\n",
    "lista.append(input(\"Qual o nome do aluno? \"))\n",
    "lista.append(int(input(f'Qual a idade de {lista[0]}? ')))\n",
    "\n",
    "num_notas = int(input(\"Digite o número de notas: \"))\n",
    "lista_de_notas = []\n",
    "for i in range(0, num_notas):\n",
    "    lista_de_notas.append(float(input(f'Insira a {i+1}a nota: ')))\n",
    "lista.append(lista_de_notas)\n",
    "\n",
    "lista.append(sum(lista[2])/len(lista[2]))\n",
    "lista.append(lista[3] > 5)\n",
    "\n",
    "print(lista)"
   ]
  },
  {
   "cell_type": "markdown",
   "metadata": {},
   "source": [
    "14 Faça um programa como o do item anterior, porém que imprima a média sem considerar a maior e menor nota do aluno (nesse caso o número de provas precisa ser obrigatoriamente maior que dois).\n",
    "\n",
    "Dica: crie uma cópia com a lista de todas as notas antes de fazer a média."
   ]
  },
  {
   "cell_type": "code",
   "execution_count": 81,
   "metadata": {},
   "outputs": [
    {
     "name": "stdout",
     "output_type": "stream",
     "text": [
      "[8.0, 9.0]\n",
      "['Fernando', 23, [10.0, 9.0, 8.0, 7.0], 8.5, True]\n"
     ]
    }
   ],
   "source": [
    "lista = []\n",
    "lista.append(input(\"Qual o nome do aluno? \"))\n",
    "lista.append(int(input(f'Qual a idade de {lista[0]}? ')))\n",
    "\n",
    "num_notas = int(input(\"Digite o número de notas (maior que dois): \"))\n",
    "lista_de_notas = []\n",
    "for i in range(0, num_notas):\n",
    "    lista_de_notas.append(float(input(f'Insira a {i+1}a nota: ')))\n",
    "lista.append(lista_de_notas)\n",
    "\n",
    "lista_para_media = sorted(lista_de_notas)\n",
    "lista_para_media.pop(0)\n",
    "lista_para_media.pop(len(lista_para_media)-1)\n",
    "\n",
    "lista.append(sum(lista_para_media)/len(lista_para_media))\n",
    "lista.append(lista[3] > 5)\n",
    "\n",
    "print(lista)"
   ]
  },
  {
   "cell_type": "markdown",
   "metadata": {},
   "source": [
    "#Listas"
   ]
  },
  {
   "cell_type": "markdown",
   "metadata": {},
   "source": [
    "3 Faça um programa que peça 10 números para o usuário e guarde os números em uma lista. Imprima os itens da lista preenchida de trás para frente."
   ]
  },
  {
   "cell_type": "code",
   "execution_count": 89,
   "metadata": {},
   "outputs": [
    {
     "name": "stdout",
     "output_type": "stream",
     "text": [
      "10\n",
      "9\n",
      "8\n",
      "7\n",
      "6\n",
      "5\n",
      "4\n",
      "3\n",
      "2\n",
      "1\n"
     ]
    }
   ],
   "source": [
    "lista = []\n",
    "for i in range(0,10):\n",
    "    lista.append(input(f'Digite o {i}o numero: '))\n",
    "\n",
    "for i in range(9,-1,-1):\n",
    "    print(lista[i])"
   ]
  },
  {
   "cell_type": "markdown",
   "metadata": {},
   "source": [
    "4 Faça um script que peça para o usuário digitar um número N e imprima uma lista com todos os números de 0 a N-1.\n",
    "\n",
    "Exemplo\n",
    "input: 5\n",
    "output: [0, 1, 2, 3, 4]"
   ]
  },
  {
   "cell_type": "code",
   "execution_count": 90,
   "metadata": {},
   "outputs": [
    {
     "name": "stdout",
     "output_type": "stream",
     "text": [
      "[0, 1, 2, 3, 4, 5, 6]\n"
     ]
    }
   ],
   "source": [
    "num = int(input(\"Digite um número inteiro: \"))\n",
    "lista = []\n",
    "\n",
    "for i in range(0,num):\n",
    "    lista.append(i)\n",
    "\n",
    "print(lista)"
   ]
  },
  {
   "cell_type": "markdown",
   "metadata": {},
   "source": [
    "5 Faça um programa que leia nome e idade de 5 pessoas e coloque os nomes em uma lista e as idades em outra. Apresente as duas listas preenchidas."
   ]
  },
  {
   "cell_type": "code",
   "execution_count": 95,
   "metadata": {},
   "outputs": [
    {
     "name": "stdout",
     "output_type": "stream",
     "text": [
      "['Maria', 'Junior', 'Carlos', 'Joana', 'Oliver']\n",
      "['12', '14', '65', '54', '2']\n"
     ]
    }
   ],
   "source": [
    "nomes = []\n",
    "idades = []\n",
    "\n",
    "for i in range(0,5):\n",
    "    nomes.append(input(f'Digite o {i+1}o nome: '))\n",
    "    idades.append(input(f'Digite a idade de {nomes[i]}: '))\n",
    "\n",
    "print(nomes, idades, sep=\"\\n\")"
   ]
  },
  {
   "cell_type": "markdown",
   "metadata": {},
   "source": [
    "6 Faça um script que leia 10 números do usuário e devolva duas listas: uma com os números ímpares e outra com os números pares.\n",
    "\n",
    "Exemplo\n",
    "input 1: 5\n",
    "input 2: 4\n",
    "(etc...): 6.. 7.. 1.. 2.. 3.. 7..\n",
    "input 9: 4\n",
    "input 10: 8\n",
    "output: lista com ímpares: [5, 7, 1, 3, 7]\n",
    "        lista com pares: [4, 6, 2, 4, 8]"
   ]
  },
  {
   "cell_type": "code",
   "execution_count": 96,
   "metadata": {},
   "outputs": [
    {
     "name": "stdout",
     "output_type": "stream",
     "text": [
      "PARES: [12, 32, 2, 10]\n",
      "IMPARES: [3, 5, 9, 11, 27, 11]\n"
     ]
    }
   ],
   "source": [
    "pares = []\n",
    "impares = []\n",
    "\n",
    "for i in range(0, 10):\n",
    "    n = int(input(f'Digite o {i+1}o numero: '))\n",
    "    if n % 2 == 0:\n",
    "        pares.append(n)\n",
    "    else:\n",
    "        impares.append(n)\n",
    "\n",
    "print(f'PARES: {pares}')\n",
    "print(f'IMPARES: {impares}')"
   ]
  },
  {
   "cell_type": "markdown",
   "metadata": {},
   "source": [
    "7 Faça um script que leia números do usuário, enquanto ele não digitar 0. Armazene esses números em uma lista e ao final informe quantos números foram digitados, ignorando o 0.\n",
    "\n",
    "Exemplo\n",
    "input: 2\n",
    "input: 4\n",
    "input: -1\n",
    "input: -5\n",
    "input: 0\n",
    "output: Você digitou 4 números"
   ]
  },
  {
   "cell_type": "code",
   "execution_count": 100,
   "metadata": {},
   "outputs": [
    {
     "name": "stdout",
     "output_type": "stream",
     "text": [
      "Você digitou 4 números\n"
     ]
    }
   ],
   "source": [
    "control = -1\n",
    "\n",
    "list = []\n",
    "while control != \"0\":\n",
    "    control = input(\"Digite o numero ou caracter para adicionar na lista, ou 0 para encerrar: \")\n",
    "    list.append(control)\n",
    "\n",
    "#remove o 0 utilizado para finalizar\n",
    "list.pop()\n",
    "\n",
    "print(f'Você digitou {len(list)} números')"
   ]
  }
 ],
 "metadata": {
  "interpreter": {
   "hash": "31f2aee4e71d21fbe5cf8b01ff0e069b9275f58929596ceb00d14d90e3e16cd6"
  },
  "kernelspec": {
   "display_name": "Python 3.8.9 64-bit",
   "language": "python",
   "name": "python3"
  },
  "language_info": {
   "codemirror_mode": {
    "name": "ipython",
    "version": 3
   },
   "file_extension": ".py",
   "mimetype": "text/x-python",
   "name": "python",
   "nbconvert_exporter": "python",
   "pygments_lexer": "ipython3",
   "version": "3.8.9"
  },
  "orig_nbformat": 4
 },
 "nbformat": 4,
 "nbformat_minor": 2
}
