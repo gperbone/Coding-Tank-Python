{
 "cells": [
  {
   "cell_type": "markdown",
   "metadata": {},
   "source": [
    "#LC | Estruturas Condicionais - Complementar"
   ]
  },
  {
   "cell_type": "markdown",
   "metadata": {},
   "source": [
    "1 Escreva um programa que peça a nota de 3 provas de um aluno e verifique se ele passou ou não de ano.\n",
    "\n",
    "Obs.: O aluno irá passar de ano se sua média for maior que 6."
   ]
  },
  {
   "cell_type": "code",
   "execution_count": 4,
   "metadata": {},
   "outputs": [
    {
     "name": "stdout",
     "output_type": "stream",
     "text": [
      "Você foi APROVADO com média 7.67.\n"
     ]
    }
   ],
   "source": [
    "nota_1 = float(input(\"Digite a nota do 1o bimestre: \"))\n",
    "nota_2 = float(input(\"Digite a nota do 2o bimestre: \"))\n",
    "nota_3 = float(input(\"Digite a nota do 3o bimestre: \"))\n",
    "\n",
    "media = ((nota_1 + nota_2 + nota_3) / 3)\n",
    "\n",
    "if media > 6:\n",
    "    print(f'Você foi APROVADO com média {media:.2f}.')\n",
    "else:\n",
    "    print(f'Você foi REPROVADO com média {media:.2f}.')"
   ]
  },
  {
   "cell_type": "markdown",
   "metadata": {},
   "source": [
    "Desafio 1 - Faça um programa que leia 3 números e informe o maior deles."
   ]
  },
  {
   "cell_type": "code",
   "execution_count": 7,
   "metadata": {},
   "outputs": [
    {
     "name": "stdout",
     "output_type": "stream",
     "text": [
      "O maior número entre 1.0, 2.0 e 3.0 é 3.0.\n"
     ]
    }
   ],
   "source": [
    "num1 = float(input(\"Digite o primeiro numero: \"))\n",
    "num2 = float(input(\"Digite o segundo numero: \"))\n",
    "num3 = float(input(\"Digiteo o terceiro numero: \"))\n",
    "\n",
    "maior = num1\n",
    "\n",
    "if num2 > maior:\n",
    "    maior = num2\n",
    "if num3 > maior:\n",
    "    maior = num3\n",
    "\n",
    "print(f'O maior número entre {num1}, {num2} e {num3} é {maior}.')"
   ]
  },
  {
   "cell_type": "markdown",
   "metadata": {},
   "source": [
    "Desafio 2 - Faça o mesmo programa do exercício anterior, porém com 4 números."
   ]
  },
  {
   "cell_type": "code",
   "execution_count": 9,
   "metadata": {},
   "outputs": [
    {
     "name": "stdout",
     "output_type": "stream",
     "text": [
      "O maior número entre 2.0, 2.0, 2.0 e 9.0 é 9.0.\n"
     ]
    }
   ],
   "source": [
    "num1 = float(input(\"Digite o primeiro numero: \"))\n",
    "num2 = float(input(\"Digite o segundo numero: \"))\n",
    "num3 = float(input(\"Digiteo o terceiro numero: \"))\n",
    "num4 = float(input(\"Digiteo o quarto numero: \"))\n",
    "\n",
    "maior = num1\n",
    "\n",
    "if num2 > maior:\n",
    "    maior = num2\n",
    "\n",
    "if num3 > maior:\n",
    "    maior = num3\n",
    "\n",
    "if num4 > maior:\n",
    "    maior = num4\n",
    "\n",
    "print(f'O maior número entre {num1}, {num2}, {num3} e {num4} é {maior}.')"
   ]
  },
  {
   "cell_type": "markdown",
   "metadata": {},
   "source": [
    "Desafio 3 - Um hospital quer fazer o diagnóstico de gripe ou dengue a partir de um questionário de sintomas, tendo as perguntas abaixo, faça um programa que faça o diagnóstico deste hospital:\n",
    "\n",
    "a. Sente dor no corpo?\n",
    "\n",
    "b. Você tem febre?\n",
    "\n",
    "c. Você tem tosse?\n",
    "\n",
    "d. Está com congestão nasal?\n",
    "\n",
    "e. Tem manchas pelo corpo?\n",
    "\n",
    "Para o diagnóstico ele tem a seguinte tabela:\n",
    "\n",
    "A\tB\tC\tD\tE\tResultado\n",
    "Sim\tSim\tNão\tNão\tSim\tDengue\n",
    "Sim\tSim\tSim\tSim\tNão\tGripe\n",
    "Não\tSim\tSim\tSim\tNão\tGripe\n",
    "Sim\tNão\tNão\tNão\tNão\tSem doenças\n",
    "Não\tNão\tNão\tNão\tNão\tSem doenças\n"
   ]
  },
  {
   "cell_type": "code",
   "execution_count": 11,
   "metadata": {},
   "outputs": [
    {
     "name": "stdout",
     "output_type": "stream",
     "text": [
      "DIAGNÓSTICO: Inconclusivo\n"
     ]
    }
   ],
   "source": [
    "p1 = float(input(\"Sente dor no corpo? (1 para SIM e 0 para NÃO) \"))\n",
    "p2 = float(input(\"Você tem febre? (1 para SIM e 0 para NÃO) \"))\n",
    "p3 = float(input(\"Você tem tosse? (1 para SIM e 0 para NÃO) \"))\n",
    "p4 = float(input(\"Está com congestão nasal? (1 para SIM e 0 para NÃO) \"))\n",
    "p5 = float(input(\"Tem manchas pelo corpo? (1 para SIM e 0 para NÃO) \"))\n",
    "\n",
    "if p1 == p2 == p3 == p4 == p5 == 0:\n",
    "    print(\"DIAGNÓSTICO: Sem doenças\")\n",
    "elif p1 == 1 and p2 == p3 == p4 == p5 == 0:\n",
    "    print(\"DIAGNÓSTICO: Sem doenças\")\n",
    "elif p2 == p3 == p4 == 1 and p1 == p5 == 0:\n",
    "    print(\"DIAGNÓSTICO: Gripe\")\n",
    "elif p1 == p2 == p3 == p4 == 1 and p5 == 0:\n",
    "    print(\"DIAGNÓSTICO: Gripe\")\n",
    "elif p1 == p2 == p3 == 1 and p4 == p5 == 0:\n",
    "    print(\"DIAGNÓSTICO: Dengue\")\n",
    "else: print(\"DIAGNÓSTICO: Inconclusivo\")"
   ]
  },
  {
   "cell_type": "markdown",
   "metadata": {},
   "source": [
    "#Controle de Fluxo em Python"
   ]
  },
  {
   "cell_type": "markdown",
   "metadata": {},
   "source": [
    "1 Faça um programa que leia dois números e informe o maior deles."
   ]
  },
  {
   "cell_type": "code",
   "execution_count": 4,
   "metadata": {},
   "outputs": [
    {
     "name": "stdout",
     "output_type": "stream",
     "text": [
      "Não há um maior número\n"
     ]
    }
   ],
   "source": [
    "n1 = float(input(\"Digite o primeiro número: \"))\n",
    "n2 = float(input(\"Digite o segundo número: \"))\n",
    "\n",
    "if n1 > n2:\n",
    "    print(f'{n1} é o maior número entre os informados.')\n",
    "elif n2 > n1:\n",
    "        print(f'{n2} é o maior número entre os informados.')\n",
    "else: print(f'Não há um maior número.')\n"
   ]
  },
  {
   "cell_type": "markdown",
   "metadata": {},
   "source": [
    "2 Faça um código que leia um número e informe se ele é par ou ímpar."
   ]
  },
  {
   "cell_type": "code",
   "execution_count": 11,
   "metadata": {},
   "outputs": [
    {
     "name": "stdout",
     "output_type": "stream",
     "text": [
      "3 é ÍMPAR.\n",
      "3 é ÍMPAR.\n"
     ]
    }
   ],
   "source": [
    "n1 = int(input(\"Informe o número: \"))\n",
    "\n",
    "if n1 % 2 == 0:\n",
    "    print(f'{n1} é PAR.')\n",
    "else:\n",
    "    print(f'{n1} é ÍMPAR.')\n",
    "\n",
    "print(f'{n1} é PAR.') if n1 % 2 == 0 else print(f'{n1} é ÍMPAR.')"
   ]
  },
  {
   "cell_type": "markdown",
   "metadata": {},
   "source": [
    "3 Faça um programa que receba 3 notas de prova de um aluno, calcule a média e diga se ele foi aprovado ou reprovado. A média para aprovação é de pelo menos 6 (aprovado se média maior ou igual a 6)."
   ]
  },
  {
   "cell_type": "code",
   "execution_count": null,
   "metadata": {},
   "outputs": [],
   "source": [
    "nota_1 = float(input(\"Digite a nota do 1o bimestre: \"))\n",
    "nota_2 = float(input(\"Digite a nota do 2o bimestre: \"))\n",
    "nota_3 = float(input(\"Digite a nota do 3o bimestre: \"))\n",
    "\n",
    "media = ((nota_1 + nota_2 + nota_3) / 3)\n",
    "\n",
    "if media >= 6:\n",
    "    print(f'Você foi APROVADO com média {media:.2f}.')\n",
    "else:\n",
    "    print(f'Você foi REPROVADO com média {media:.2f}.')"
   ]
  },
  {
   "cell_type": "markdown",
   "metadata": {},
   "source": [
    "4 Uma empresa irá aplicar um reajuste nos salários de seus funcionários de acordo com as seguintes regras:\n",
    "\n",
    "Salário até R$2800,00 (incluindo): aumento de 20%;\n",
    "\n",
    "Salários entre R 2800,00 e R$7000,00: aumento de 15%;\n",
    "\n",
    "Salários entre R 7000,00 e R$15000,00: aumento de 10%;\n",
    "\n",
    "Salários de R$15000,00 em diante: aumento de 5%.\n",
    "\n",
    "Dado o salário de um funcionário, informe: o salário antes do reajuste; o percentual de aumento aplicado; o valor do aumento e o novo salário."
   ]
  },
  {
   "cell_type": "code",
   "execution_count": 18,
   "metadata": {},
   "outputs": [
    {
     "name": "stdout",
     "output_type": "stream",
     "text": [
      "Seu salário de 20000.00 será reajustado em 5%, passando a ser 21000.00.\n"
     ]
    }
   ],
   "source": [
    "salario = float(input(\"Informe seu salário: \"))\n",
    "\n",
    "if salario <= 2800:\n",
    "    aumento = 20\n",
    "    reajustado = salario * (1 + (aumento/100))\n",
    "    print(f'Seu salário de {salario:.2f} será reajustado em {aumento}%, passando a ser {reajustado:.2f}.')\n",
    "elif 2800 < salario <= 7000:\n",
    "    aumento = 15\n",
    "    reajustado = salario * (1 + (aumento/100))\n",
    "    print(f'Seu salário de {salario:.2f} será reajustado em {aumento}%, passando a ser {reajustado:.2f}.')\n",
    "elif 7000 < salario <= 15000:\n",
    "    aumento = 10\n",
    "    reajustado = salario * (1 + (aumento/100))\n",
    "    print(f'Seu salário de {salario:.2f} será reajustado em {aumento}%, passando a ser {reajustado:.2f}.')\n",
    "elif 15000 < salario:\n",
    "    aumento = 5\n",
    "    reajustado = salario * (1 + (aumento/100))\n",
    "    print(f'Seu salário de {salario:.2f} será reajustado em {aumento}%, passando a ser {reajustado:.2f}.')"
   ]
  }
 ],
 "metadata": {
  "interpreter": {
   "hash": "31f2aee4e71d21fbe5cf8b01ff0e069b9275f58929596ceb00d14d90e3e16cd6"
  },
  "kernelspec": {
   "display_name": "Python 3.8.9 64-bit",
   "language": "python",
   "name": "python3"
  },
  "language_info": {
   "codemirror_mode": {
    "name": "ipython",
    "version": 3
   },
   "file_extension": ".py",
   "mimetype": "text/x-python",
   "name": "python",
   "nbconvert_exporter": "python",
   "pygments_lexer": "ipython3",
   "version": "3.8.9"
  },
  "orig_nbformat": 4
 },
 "nbformat": 4,
 "nbformat_minor": 2
}
