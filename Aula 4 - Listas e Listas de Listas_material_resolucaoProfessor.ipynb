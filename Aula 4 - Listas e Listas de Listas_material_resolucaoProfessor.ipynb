{
 "cells": [
  {
   "cell_type": "markdown",
   "metadata": {
    "id": "9CKL9qhB7Gvb"
   },
   "source": [
    "## Exercícios\n",
    "\n",
    "Dada uma lista encadeada de caracteres formada por uma seqüência alternada de\n",
    "letras e dígitos, construa um método que retorne uma lista na qual as letras são mantidas\n",
    "na seqüência original e os dígitos são colocados na ordem inversa. Exemplos:\n",
    "\n",
    "\n",
    "A 1 E 5 T 7 W 8 G<br>\n",
    "®: A E T W G 8 7 5 1\n",
    "\n",
    "3 C 9 H 4 Q 6<br>\n",
    "®: C H Q 6 4 9 3\n",
    "\n",
    "\n",
    "Como mostram os exemplos, as letras devem ser mostradas primeiro, seguidas dos\n",
    "dígitos. Sugestão:\n",
    "- usar método isdigit() que retorna booleano que retorna verdadeiro caso um\n",
    "caractere seja um dígito. https://www.w3schools.com/python/ref_string_isdigit.asp\n"
   ]
  },
  {
   "cell_type": "code",
   "execution_count": 8,
   "metadata": {
    "id": "WP9hWppt7Gvc"
   },
   "outputs": [],
   "source": [
    "def ordena_listas(lista):\n",
    "    \n",
    "    lista_numeros = []\n",
    "    lista_letras = []\n",
    "    \n",
    "    i = 0\n",
    "    \n",
    "    while i < len(lista):\n",
    "        \n",
    "        if lista[i].isdigit():\n",
    "            lista_numeros.append(lista[i])\n",
    "        else:\n",
    "            lista_letras.append(lista[i])\n",
    "        i += 1\n",
    "            \n",
    "    lista_numeros = lista_numeros[::-1]\n",
    "    \n",
    "    lista_ordenada = lista_letras + lista_numeros\n",
    "    \n",
    "    return lista_ordenada"
   ]
  },
  {
   "cell_type": "code",
   "execution_count": 10,
   "metadata": {},
   "outputs": [
    {
     "data": {
      "text/plain": [
       "['A', 'E', 'T', 'W', 'G', '8', '7', '5', '1']"
      ]
     },
     "execution_count": 10,
     "metadata": {},
     "output_type": "execute_result"
    }
   ],
   "source": [
    "ordena_listas(['A', '1', 'E', '5', 'T', '7', 'W', '8', 'G'])"
   ]
  },
  {
   "cell_type": "code",
   "execution_count": 11,
   "metadata": {},
   "outputs": [
    {
     "data": {
      "text/plain": [
       "['C', 'H', 'Q', '6', '4', '9', '3']"
      ]
     },
     "execution_count": 11,
     "metadata": {},
     "output_type": "execute_result"
    }
   ],
   "source": [
    "ordena_listas(['3', 'C', '9', 'H', '4', 'Q', '6'])"
   ]
  },
  {
   "cell_type": "code",
   "execution_count": 9,
   "metadata": {
    "id": "G1Lt1Hg67Gvc"
   },
   "outputs": [
    {
     "data": {
      "text/plain": [
       "['A', 'G', 'Z', 'B', '3', '9', '8', '1']"
      ]
     },
     "execution_count": 9,
     "metadata": {},
     "output_type": "execute_result"
    }
   ],
   "source": [
    "ordena_listas(['A', 'G', '1', '8', '9', 'Z', 'B', '3'])"
   ]
  },
  {
   "cell_type": "markdown",
   "metadata": {
    "id": "9fzTnvKg7Gvc"
   },
   "source": [
    "Faça um algoritmo que recebe uma lista encadeada de números inteiros e retorna uma lista sem repetições, ou seja, uma lista onde cada número apareça apenas uma\n",
    "vez. Exemplo:\n",
    "\n",
    "12, 5, -7, 8, 5, 9, 12, 1, 8 <br>\n",
    "®: 12, 5, -7, 8, 9, 1\n"
   ]
  },
  {
   "cell_type": "code",
   "execution_count": 12,
   "metadata": {
    "id": "D0hn_az_7Gvc"
   },
   "outputs": [],
   "source": [
    "def lista_sem_dup(lista):\n",
    "    \n",
    "    lista_nova = []\n",
    "    \n",
    "    i = 0\n",
    "    \n",
    "    while i < len(lista):\n",
    "        \n",
    "        if lista[i] not in lista_nova:\n",
    "            lista_nova.append(lista[i])\n",
    "        \n",
    "        i += 1\n",
    "        \n",
    "    return lista_nova"
   ]
  },
  {
   "cell_type": "code",
   "execution_count": 14,
   "metadata": {
    "id": "CujfkiTS7XC_"
   },
   "outputs": [
    {
     "data": {
      "text/plain": [
       "[12, 5, -7, 8, 9, 1]"
      ]
     },
     "execution_count": 14,
     "metadata": {},
     "output_type": "execute_result"
    }
   ],
   "source": [
    "lista_sem_dup([12, 5, -7, 8, 5, 9, 12, 1, 8])"
   ]
  },
  {
   "cell_type": "code",
   "execution_count": 15,
   "metadata": {},
   "outputs": [
    {
     "data": {
      "text/plain": [
       "[1, 5, 8]"
      ]
     },
     "execution_count": 15,
     "metadata": {},
     "output_type": "execute_result"
    }
   ],
   "source": [
    "lista_sem_dup([1, 1, 1, 1, 1, 5, 5, 5, 8])"
   ]
  },
  {
   "cell_type": "code",
   "execution_count": null,
   "metadata": {},
   "outputs": [],
   "source": []
  }
 ],
 "metadata": {
  "colab": {
   "name": "Aula 3 - Listas e Listas de Listas.ipynb",
   "provenance": []
  },
  "kernelspec": {
   "display_name": "Python 3 (ipykernel)",
   "language": "python",
   "name": "python3"
  },
  "language_info": {
   "codemirror_mode": {
    "name": "ipython",
    "version": 3
   },
   "file_extension": ".py",
   "mimetype": "text/x-python",
   "name": "python",
   "nbconvert_exporter": "python",
   "pygments_lexer": "ipython3",
   "version": "3.9.7"
  }
 },
 "nbformat": 4,
 "nbformat_minor": 1
}
